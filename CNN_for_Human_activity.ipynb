{
  "nbformat": 4,
  "nbformat_minor": 0,
  "metadata": {
    "colab": {
      "name": "CNN for Human activity.ipynb",
      "provenance": [],
      "collapsed_sections": []
    },
    "kernelspec": {
      "name": "python3",
      "display_name": "Python 3"
    },
    "language_info": {
      "name": "python"
    }
  },
  "cells": [
    {
      "cell_type": "code",
      "source": [
        "!pip3 install tensorflow_model_optimization"
      ],
      "metadata": {
        "id": "dZkwUyeCJYOt"
      },
      "execution_count": null,
      "outputs": []
    },
    {
      "cell_type": "code",
      "execution_count": null,
      "metadata": {
        "id": "1VJ7GDNJHTPm"
      },
      "outputs": [],
      "source": [
        "import tensorflow as tf\n",
        "from tensorflow import keras\n",
        "import matplotlib.pyplot as plt\n",
        "%matplotlib inline\n",
        "import numpy as np\n",
        "import pandas as pd\n",
        "import tensorflow_model_optimization as tfmot\n",
        "import h5py\n",
        "from keras.models import load_model\n",
        "import tensorflow as tf\n",
        "from tensorflow import keras\n",
        "from sklearn.metrics import accuracy_score\n",
        "import tempfile\n",
        "import zipfile\n",
        "import os"
      ]
    },
    {
      "cell_type": "code",
      "source": [
        "data_train = pd.read_csv('/content/drive/MyDrive/Machine Learning/human_activitz_train.csv')\n",
        "data_test = pd.read_csv('/content/drive/MyDrive/Machine Learning/human_activitz_test.csv')"
      ],
      "metadata": {
        "id": "h5jZcUrwJjbW"
      },
      "execution_count": null,
      "outputs": []
    },
    {
      "cell_type": "code",
      "source": [
        "data_train['output'] = pd.factorize(data_train.Activity)[0]\n",
        "data_test['output'] = pd.factorize(data_test.Activity)[0]"
      ],
      "metadata": {
        "id": "UCk1NMgWLSQV"
      },
      "execution_count": null,
      "outputs": []
    },
    {
      "cell_type": "code",
      "source": [
        "activity_training = data_train.pop('Activity')\n",
        "activity_test = data_test.pop('Activity')"
      ],
      "metadata": {
        "id": "TuWUQd5mWLF-"
      },
      "execution_count": null,
      "outputs": []
    },
    {
      "cell_type": "code",
      "source": [
        "# model_data_training = data_train.drop('Activity', axis = 1)\n",
        "# model_data_test = data_test.drop('Activity', axis = 1)"
      ],
      "metadata": {
        "id": "ZMmDNzAYKqq_"
      },
      "execution_count": null,
      "outputs": []
    },
    {
      "cell_type": "code",
      "source": [
        "data_train.dtypes"
      ],
      "metadata": {
        "colab": {
          "base_uri": "https://localhost:8080/"
        },
        "id": "MBQLlz1nMsHZ",
        "outputId": "ceae7921-5654-42ba-a275-2ab76f07b5a9"
      },
      "execution_count": null,
      "outputs": [
        {
          "output_type": "execute_result",
          "data": {
            "text/plain": [
              "tBodyAcc-mean()-X       float64\n",
              "tBodyAcc-mean()-Y       float64\n",
              "tBodyAcc-mean()-Z       float64\n",
              "tBodyAcc-std()-X        float64\n",
              "tBodyAcc-std()-Y        float64\n",
              "                         ...   \n",
              "angle(X,gravityMean)    float64\n",
              "angle(Y,gravityMean)    float64\n",
              "angle(Z,gravityMean)    float64\n",
              "subject                   int64\n",
              "output                    int64\n",
              "Length: 563, dtype: object"
            ]
          },
          "metadata": {},
          "execution_count": 88
        }
      ]
    },
    {
      "cell_type": "code",
      "source": [
        "cols_train = data_train.columns.tolist()\n",
        "cols_test = data_test.columns.tolist()"
      ],
      "metadata": {
        "id": "-lTqNZIPMtsb"
      },
      "execution_count": null,
      "outputs": []
    },
    {
      "cell_type": "code",
      "source": [
        "cols_train = cols_train[-1:] + cols_train[:-1]\n",
        "cols_test = cols_test[-1:] + cols_test[:-1]"
      ],
      "metadata": {
        "id": "fMZx_1IjQsQt"
      },
      "execution_count": null,
      "outputs": []
    },
    {
      "cell_type": "code",
      "source": [
        "data_train = data_train[cols_train] \n",
        "data_test = data_test[cols_test] "
      ],
      "metadata": {
        "id": "kZ7X_K9xQ3dS"
      },
      "execution_count": null,
      "outputs": []
    },
    {
      "cell_type": "code",
      "source": [
        "data_train = data_train.astype('float32')\n",
        "data_test = data_test.astype('float32')"
      ],
      "metadata": {
        "id": "kzEiH696RCYL"
      },
      "execution_count": null,
      "outputs": []
    },
    {
      "cell_type": "code",
      "source": [
        "data_test.shape"
      ],
      "metadata": {
        "colab": {
          "base_uri": "https://localhost:8080/"
        },
        "id": "pRrD-OL4RFOe",
        "outputId": "a5903f71-1cec-49b9-8065-7b8185e2d092"
      },
      "execution_count": null,
      "outputs": [
        {
          "output_type": "execute_result",
          "data": {
            "text/plain": [
              "(2947, 563)"
            ]
          },
          "metadata": {},
          "execution_count": 95
        }
      ]
    },
    {
      "cell_type": "code",
      "source": [
        "max_value_train = data_train.max().max()\n",
        "max_value_train\n",
        "\n",
        "data_train = np.array(data_train)\n",
        "m, n = data_train.shape\n",
        "np.random.shuffle(data_train)\n",
        "\n",
        "data_train = data_train[0:m].T\n",
        "Y_train = data_train[0].T\n",
        "X_train = data_train[1:n].T\n",
        "X_train = X_train / max_value_train"
      ],
      "metadata": {
        "id": "8ldD-3BaRWB8"
      },
      "execution_count": null,
      "outputs": []
    },
    {
      "cell_type": "code",
      "source": [
        "max_value_test = data_test.max().max()\n",
        "max_value_test\n",
        "\n",
        "data_test = np.array(data_test)\n",
        "m, n = data_test.shape\n",
        "np.random.shuffle(data_test)\n",
        "\n",
        "data_test = data_test[0:m].T\n",
        "Y_test = data_test[0].T\n",
        "X_test = data_test[1:n].T\n",
        "X_test = X_test / max_value_test"
      ],
      "metadata": {
        "id": "D7r4K9dcbUjI"
      },
      "execution_count": null,
      "outputs": []
    },
    {
      "cell_type": "code",
      "source": [
        "X_test.shape"
      ],
      "metadata": {
        "colab": {
          "base_uri": "https://localhost:8080/"
        },
        "id": "9d6I8YMVTrrF",
        "outputId": "af24b467-ae98-4f94-b73d-0e802ff59e76"
      },
      "execution_count": null,
      "outputs": [
        {
          "output_type": "execute_result",
          "data": {
            "text/plain": [
              "(2947, 562)"
            ]
          },
          "metadata": {},
          "execution_count": 99
        }
      ]
    },
    {
      "cell_type": "code",
      "source": [
        "X_train = X_train.reshape(7352, 2,281)\n",
        "X_test = X_test.reshape(2947, 2,281)"
      ],
      "metadata": {
        "id": "INhA6yVgTsJQ"
      },
      "execution_count": null,
      "outputs": []
    },
    {
      "cell_type": "code",
      "source": [
        "\n",
        "# Define the model architecture.\n",
        "model_cnn_human = keras.Sequential([\n",
        "    keras.layers.InputLayer(input_shape=(2, 281)),\n",
        "    keras.layers.Reshape(target_shape=(2, 281, 1)),\n",
        "    keras.layers.Conv2D(filters=12, kernel_size=(2, 2), padding= \"same\", activation=tf.nn.relu),\n",
        "    keras.layers.MaxPooling2D(pool_size=(2, 2)),\n",
        "    keras.layers.Flatten(),\n",
        "    keras.layers.Dense(256)\n",
        "])\n",
        "\n",
        "# Train the digit classification model\n",
        "model_cnn_human.compile(optimizer='adam',\n",
        "              loss=tf.keras.losses.SparseCategoricalCrossentropy(from_logits=True),\n",
        "              metrics=['accuracy'])\n",
        "\n",
        "model_cnn_human.fit(\n",
        "    X_train,\n",
        "    Y_train,\n",
        "    validation_split=0.1,\n",
        "    epochs=50\n",
        ")"
      ],
      "metadata": {
        "colab": {
          "base_uri": "https://localhost:8080/"
        },
        "id": "jtosCUp_UhjL",
        "outputId": "f5bf482b-f1d3-40c1-9fde-753ba368d6a4"
      },
      "execution_count": null,
      "outputs": [
        {
          "output_type": "stream",
          "name": "stdout",
          "text": [
            "Epoch 1/50\n",
            "207/207 [==============================] - 3s 14ms/step - loss: 2.1395 - accuracy: 0.2382 - val_loss: 1.5938 - val_accuracy: 0.3668\n",
            "Epoch 2/50\n",
            "207/207 [==============================] - 3s 13ms/step - loss: 1.4302 - accuracy: 0.4386 - val_loss: 1.2698 - val_accuracy: 0.3546\n",
            "Epoch 3/50\n",
            "207/207 [==============================] - 3s 13ms/step - loss: 1.1505 - accuracy: 0.5671 - val_loss: 1.0417 - val_accuracy: 0.6916\n",
            "Epoch 4/50\n",
            "207/207 [==============================] - 3s 13ms/step - loss: 0.9690 - accuracy: 0.7199 - val_loss: 0.9031 - val_accuracy: 0.7228\n",
            "Epoch 5/50\n",
            "207/207 [==============================] - 3s 13ms/step - loss: 0.8283 - accuracy: 0.7916 - val_loss: 0.7574 - val_accuracy: 0.8383\n",
            "Epoch 6/50\n",
            "207/207 [==============================] - 3s 13ms/step - loss: 0.7083 - accuracy: 0.8356 - val_loss: 0.6457 - val_accuracy: 0.8736\n",
            "Epoch 7/50\n",
            "207/207 [==============================] - 3s 13ms/step - loss: 0.6049 - accuracy: 0.8529 - val_loss: 0.5781 - val_accuracy: 0.8139\n",
            "Epoch 8/50\n",
            "207/207 [==============================] - 3s 13ms/step - loss: 0.5256 - accuracy: 0.8659 - val_loss: 0.4791 - val_accuracy: 0.8696\n",
            "Epoch 9/50\n",
            "207/207 [==============================] - 3s 13ms/step - loss: 0.4598 - accuracy: 0.8767 - val_loss: 0.4160 - val_accuracy: 0.8886\n",
            "Epoch 10/50\n",
            "207/207 [==============================] - 3s 13ms/step - loss: 0.4075 - accuracy: 0.8892 - val_loss: 0.3734 - val_accuracy: 0.8981\n",
            "Epoch 11/50\n",
            "207/207 [==============================] - 3s 13ms/step - loss: 0.3679 - accuracy: 0.8945 - val_loss: 0.3356 - val_accuracy: 0.9049\n",
            "Epoch 12/50\n",
            "207/207 [==============================] - 3s 13ms/step - loss: 0.3336 - accuracy: 0.8987 - val_loss: 0.3164 - val_accuracy: 0.8981\n",
            "Epoch 13/50\n",
            "207/207 [==============================] - 3s 13ms/step - loss: 0.3059 - accuracy: 0.9057 - val_loss: 0.2862 - val_accuracy: 0.9117\n",
            "Epoch 14/50\n",
            "207/207 [==============================] - 3s 13ms/step - loss: 0.2818 - accuracy: 0.9122 - val_loss: 0.2689 - val_accuracy: 0.9144\n",
            "Epoch 15/50\n",
            "207/207 [==============================] - 3s 13ms/step - loss: 0.2626 - accuracy: 0.9137 - val_loss: 0.2485 - val_accuracy: 0.9144\n",
            "Epoch 16/50\n",
            "207/207 [==============================] - 3s 13ms/step - loss: 0.2464 - accuracy: 0.9202 - val_loss: 0.2319 - val_accuracy: 0.9171\n",
            "Epoch 17/50\n",
            "207/207 [==============================] - 3s 13ms/step - loss: 0.2307 - accuracy: 0.9229 - val_loss: 0.2222 - val_accuracy: 0.9212\n",
            "Epoch 18/50\n",
            "207/207 [==============================] - 3s 13ms/step - loss: 0.2181 - accuracy: 0.9259 - val_loss: 0.2100 - val_accuracy: 0.9280\n",
            "Epoch 19/50\n",
            "207/207 [==============================] - 3s 13ms/step - loss: 0.2059 - accuracy: 0.9312 - val_loss: 0.2002 - val_accuracy: 0.9239\n",
            "Epoch 20/50\n",
            "207/207 [==============================] - 3s 13ms/step - loss: 0.1946 - accuracy: 0.9343 - val_loss: 0.1960 - val_accuracy: 0.9321\n",
            "Epoch 21/50\n",
            "207/207 [==============================] - 3s 13ms/step - loss: 0.1856 - accuracy: 0.9370 - val_loss: 0.1808 - val_accuracy: 0.9348\n",
            "Epoch 22/50\n",
            "207/207 [==============================] - 3s 13ms/step - loss: 0.1759 - accuracy: 0.9412 - val_loss: 0.1685 - val_accuracy: 0.9389\n",
            "Epoch 23/50\n",
            "207/207 [==============================] - 3s 13ms/step - loss: 0.1680 - accuracy: 0.9427 - val_loss: 0.1605 - val_accuracy: 0.9416\n",
            "Epoch 24/50\n",
            "207/207 [==============================] - 3s 13ms/step - loss: 0.1603 - accuracy: 0.9483 - val_loss: 0.1544 - val_accuracy: 0.9443\n",
            "Epoch 25/50\n",
            "207/207 [==============================] - 3s 13ms/step - loss: 0.1516 - accuracy: 0.9497 - val_loss: 0.1556 - val_accuracy: 0.9457\n",
            "Epoch 26/50\n",
            "207/207 [==============================] - 3s 13ms/step - loss: 0.1457 - accuracy: 0.9515 - val_loss: 0.1494 - val_accuracy: 0.9429\n",
            "Epoch 27/50\n",
            "207/207 [==============================] - 3s 13ms/step - loss: 0.1410 - accuracy: 0.9530 - val_loss: 0.1372 - val_accuracy: 0.9429\n",
            "Epoch 28/50\n",
            "207/207 [==============================] - 3s 13ms/step - loss: 0.1344 - accuracy: 0.9548 - val_loss: 0.1353 - val_accuracy: 0.9497\n",
            "Epoch 29/50\n",
            "207/207 [==============================] - 3s 13ms/step - loss: 0.1316 - accuracy: 0.9563 - val_loss: 0.1305 - val_accuracy: 0.9524\n",
            "Epoch 30/50\n",
            "207/207 [==============================] - 3s 13ms/step - loss: 0.1250 - accuracy: 0.9592 - val_loss: 0.1229 - val_accuracy: 0.9592\n",
            "Epoch 31/50\n",
            "207/207 [==============================] - 3s 13ms/step - loss: 0.1193 - accuracy: 0.9606 - val_loss: 0.1295 - val_accuracy: 0.9565\n",
            "Epoch 32/50\n",
            "207/207 [==============================] - 3s 13ms/step - loss: 0.1182 - accuracy: 0.9602 - val_loss: 0.1138 - val_accuracy: 0.9606\n",
            "Epoch 33/50\n",
            "207/207 [==============================] - 3s 13ms/step - loss: 0.1111 - accuracy: 0.9616 - val_loss: 0.1105 - val_accuracy: 0.9606\n",
            "Epoch 34/50\n",
            "207/207 [==============================] - 3s 13ms/step - loss: 0.1073 - accuracy: 0.9651 - val_loss: 0.1075 - val_accuracy: 0.9606\n",
            "Epoch 35/50\n",
            "207/207 [==============================] - 3s 13ms/step - loss: 0.1041 - accuracy: 0.9669 - val_loss: 0.1097 - val_accuracy: 0.9565\n",
            "Epoch 36/50\n",
            "207/207 [==============================] - 3s 13ms/step - loss: 0.1011 - accuracy: 0.9667 - val_loss: 0.1013 - val_accuracy: 0.9647\n",
            "Epoch 37/50\n",
            "207/207 [==============================] - 3s 13ms/step - loss: 0.0983 - accuracy: 0.9664 - val_loss: 0.0989 - val_accuracy: 0.9647\n",
            "Epoch 38/50\n",
            "207/207 [==============================] - 3s 13ms/step - loss: 0.0943 - accuracy: 0.9686 - val_loss: 0.1059 - val_accuracy: 0.9579\n",
            "Epoch 39/50\n",
            "207/207 [==============================] - 3s 13ms/step - loss: 0.0917 - accuracy: 0.9696 - val_loss: 0.0955 - val_accuracy: 0.9660\n",
            "Epoch 40/50\n",
            "207/207 [==============================] - 3s 13ms/step - loss: 0.0900 - accuracy: 0.9705 - val_loss: 0.1047 - val_accuracy: 0.9592\n",
            "Epoch 41/50\n",
            "207/207 [==============================] - 3s 13ms/step - loss: 0.0874 - accuracy: 0.9722 - val_loss: 0.0899 - val_accuracy: 0.9660\n",
            "Epoch 42/50\n",
            "207/207 [==============================] - 3s 13ms/step - loss: 0.0834 - accuracy: 0.9713 - val_loss: 0.0885 - val_accuracy: 0.9674\n",
            "Epoch 43/50\n",
            "207/207 [==============================] - 3s 13ms/step - loss: 0.0821 - accuracy: 0.9734 - val_loss: 0.0858 - val_accuracy: 0.9660\n",
            "Epoch 44/50\n",
            "207/207 [==============================] - 3s 13ms/step - loss: 0.0784 - accuracy: 0.9754 - val_loss: 0.0834 - val_accuracy: 0.9674\n",
            "Epoch 45/50\n",
            "207/207 [==============================] - 3s 13ms/step - loss: 0.0782 - accuracy: 0.9729 - val_loss: 0.0826 - val_accuracy: 0.9715\n",
            "Epoch 46/50\n",
            "207/207 [==============================] - 3s 13ms/step - loss: 0.0742 - accuracy: 0.9766 - val_loss: 0.0779 - val_accuracy: 0.9742\n",
            "Epoch 47/50\n",
            "207/207 [==============================] - 3s 13ms/step - loss: 0.0755 - accuracy: 0.9757 - val_loss: 0.0903 - val_accuracy: 0.9592\n",
            "Epoch 48/50\n",
            "207/207 [==============================] - 3s 13ms/step - loss: 0.0739 - accuracy: 0.9761 - val_loss: 0.0752 - val_accuracy: 0.9728\n",
            "Epoch 49/50\n",
            "207/207 [==============================] - 3s 13ms/step - loss: 0.0723 - accuracy: 0.9763 - val_loss: 0.0773 - val_accuracy: 0.9688\n",
            "Epoch 50/50\n",
            "207/207 [==============================] - 3s 13ms/step - loss: 0.0699 - accuracy: 0.9766 - val_loss: 0.0744 - val_accuracy: 0.9742\n"
          ]
        },
        {
          "output_type": "execute_result",
          "data": {
            "text/plain": [
              "<keras.callbacks.History at 0x7faaab5f1310>"
            ]
          },
          "metadata": {},
          "execution_count": 104
        }
      ]
    },
    {
      "cell_type": "code",
      "source": [
        "model_cnn_human.evaluate(X_test, Y_test)"
      ],
      "metadata": {
        "id": "DqZx1zEcdRoS",
        "outputId": "00c8877d-a408-4c1b-aab2-4b23027a6ba2",
        "colab": {
          "base_uri": "https://localhost:8080/"
        }
      },
      "execution_count": null,
      "outputs": [
        {
          "output_type": "stream",
          "name": "stdout",
          "text": [
            "93/93 [==============================] - 1s 8ms/step - loss: 0.1297 - accuracy: 0.9515\n"
          ]
        },
        {
          "output_type": "execute_result",
          "data": {
            "text/plain": [
              "[0.12966546416282654, 0.9514760971069336]"
            ]
          },
          "metadata": {},
          "execution_count": 105
        }
      ]
    },
    {
      "cell_type": "code",
      "source": [
        ""
      ],
      "metadata": {
        "id": "lM6GZjJOdV5_"
      },
      "execution_count": null,
      "outputs": []
    }
  ]
}