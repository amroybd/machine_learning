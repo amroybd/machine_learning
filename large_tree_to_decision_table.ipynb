{
  "nbformat": 4,
  "nbformat_minor": 0,
  "metadata": {
    "colab": {
      "name": "large_tree_to_decision_table.ipynb",
      "provenance": []
    },
    "kernelspec": {
      "name": "python3",
      "display_name": "Python 3"
    },
    "language_info": {
      "name": "python"
    }
  },
  "cells": [
    {
      "cell_type": "code",
      "execution_count": 1,
      "metadata": {
        "id": "XJhPPnacb_tB"
      },
      "outputs": [],
      "source": [
        "import matplotlib.pyplot as plt\n",
        "%matplotlib inline\n",
        "import numpy as np\n",
        "import pandas as pd\n",
        "from sklearn.metrics import accuracy_score\n",
        "import tempfile\n",
        "import zipfile\n",
        "import os\n",
        "from sklearn.metrics import auc, accuracy_score\n",
        "from sklearn.model_selection import cross_val_score,train_test_split\n",
        "from sklearn import tree\n",
        "from sklearn.tree import DecisionTreeClassifier\n"
      ]
    },
    {
      "cell_type": "code",
      "source": [
        "data = pd.read_csv('/content/drive/MyDrive/inversion/train_test_data.csv')"
      ],
      "metadata": {
        "id": "6m_YI5fkcplR"
      },
      "execution_count": 2,
      "outputs": []
    },
    {
      "cell_type": "code",
      "source": [
        "data.shape"
      ],
      "metadata": {
        "colab": {
          "base_uri": "https://localhost:8080/"
        },
        "id": "1NOK9DvkcxaM",
        "outputId": "d6882157-d109-4082-e01f-c6d0e508755b"
      },
      "execution_count": 3,
      "outputs": [
        {
          "output_type": "execute_result",
          "data": {
            "text/plain": [
              "(1308954, 53)"
            ]
          },
          "metadata": {},
          "execution_count": 3
        }
      ]
    },
    {
      "cell_type": "code",
      "source": [
        "X = data.drop(['output'], axis='columns')\n",
        "y = data['output']"
      ],
      "metadata": {
        "id": "MNIcjVLHc8Dl"
      },
      "execution_count": 4,
      "outputs": []
    },
    {
      "cell_type": "code",
      "source": [
        "X_train, X_test, Y_train, Y_test = train_test_split(X, y, test_size=0.3, random_state=42, stratify=y)"
      ],
      "metadata": {
        "id": "kEXBQYbbdBxf"
      },
      "execution_count": 5,
      "outputs": []
    },
    {
      "cell_type": "code",
      "source": [
        "model_dt = tree.DecisionTreeClassifier(max_depth=78)\n",
        "model_dt.fit(X_train, Y_train)"
      ],
      "metadata": {
        "colab": {
          "base_uri": "https://localhost:8080/"
        },
        "id": "fKI2PwyPdJqv",
        "outputId": "7ed40b2c-5ed7-4c2f-d7fa-2b7938a4493a"
      },
      "execution_count": 6,
      "outputs": [
        {
          "output_type": "execute_result",
          "data": {
            "text/plain": [
              "DecisionTreeClassifier(max_depth=78)"
            ]
          },
          "metadata": {},
          "execution_count": 6
        }
      ]
    },
    {
      "cell_type": "code",
      "source": [
        "model_score = model_dt.score(X_test, Y_test)\n",
        "predictions_test= model_dt.predict(X_test)"
      ],
      "metadata": {
        "id": "KcjR2HUNdPIv"
      },
      "execution_count": 7,
      "outputs": []
    },
    {
      "cell_type": "code",
      "source": [
        "print('samples', len(X_test))\n",
        "print('match', np.count_nonzero(predictions_test==Y_test))\n",
        "print('mismatch', (len(X_test) - (np.count_nonzero(predictions_test==Y_test))))\n",
        "print('error', ((len(X_test) - (np.count_nonzero(predictions_test==Y_test))))/(len(X_test)))\n",
        "print('model score', model_dt.score(X_test, Y_test)*100)"
      ],
      "metadata": {
        "colab": {
          "base_uri": "https://localhost:8080/"
        },
        "id": "wNSQZAePdYgM",
        "outputId": "39f6c125-3b8a-4a84-e51d-81f965caaf1c"
      },
      "execution_count": 8,
      "outputs": [
        {
          "output_type": "stream",
          "name": "stdout",
          "text": [
            "samples 392687\n",
            "match 353478\n",
            "mismatch 39209\n",
            "error 0.09984797052105111\n",
            "model score 90.01520294789489\n"
          ]
        }
      ]
    },
    {
      "cell_type": "markdown",
      "source": [
        "**Convert the tree to decision table**\n",
        "\n",
        "This tree has 128189 nodes. Which is a very large decision tree. Below I have demonstrated how any tree can be converted into a decision table and use that table to make predictions."
      ],
      "metadata": {
        "id": "bT_zKROBiiqz"
      }
    },
    {
      "cell_type": "code",
      "source": [
        "n_nodes = model_dt.tree_.node_count\n",
        "n_nodes"
      ],
      "metadata": {
        "colab": {
          "base_uri": "https://localhost:8080/"
        },
        "id": "SVC7l9LriRFa",
        "outputId": "cc39a2b9-1c3f-495d-c71e-b2626a0d4860"
      },
      "execution_count": 28,
      "outputs": [
        {
          "output_type": "execute_result",
          "data": {
            "text/plain": [
              "128189"
            ]
          },
          "metadata": {},
          "execution_count": 28
        }
      ]
    },
    {
      "cell_type": "code",
      "source": [
        "n_nodes = model_dt.tree_.node_count\n",
        "children_left = model_dt.tree_.children_left\n",
        "children_right = model_dt.tree_.children_right\n",
        "feature = model_dt.tree_.feature\n",
        "threshold = model_dt.tree_.threshold\n",
        "label = model_dt.tree_.value\n",
        "\n",
        "\n",
        "node_depth = np.zeros(shape=n_nodes, dtype=np.int64)\n",
        "is_leaves = np.zeros(shape=n_nodes, dtype=bool)\n",
        "stack = [(0, -1)]  \n",
        "while len(stack) > 0:\n",
        "    node_id, parent_depth = stack.pop()\n",
        "    node_depth[node_id] = parent_depth + 1\n",
        "\n",
        "   \n",
        "    if (children_left[node_id] != children_right[node_id]):\n",
        "        stack.append((children_left[node_id], parent_depth + 1))\n",
        "        stack.append((children_right[node_id], parent_depth + 1))\n",
        "    else:\n",
        "        is_leaves[node_id] = True\n",
        "empty_array = np.empty((0, 7))\n",
        "print(\"The binary tree structure has %s nodes and has \"\n",
        "      \"the following tree structure printed into decision table:\"\n",
        "      % n_nodes)\n",
        "print(\"[Node number], [Input feature index], [Value to compare], [Next node if ture], [Next node if false], [is leaf], [Output]\")\n",
        "for i in range(n_nodes):\n",
        "    if is_leaves[i]:\n",
        "        n = np.array(label[i])\n",
        "        outputs_index = np.argmax(n)\n",
        "        empty_array = np.append(empty_array, np.array([[i, -1, -1, -1, -1, 1, outputs_index]]), axis=0)\n",
        "    else:\n",
        "        empty_array = np.append(empty_array, np.array([[i, feature[i], threshold[i], children_left[i], children_right[i], 0, -1]]), axis=0)\n",
        "print(\"\\n\")\n",
        "print(empty_array)"
      ],
      "metadata": {
        "colab": {
          "base_uri": "https://localhost:8080/"
        },
        "id": "kvR8AcO4d9Sw",
        "outputId": "8ee90370-85db-4ff3-8441-3db3f1ea4f1a"
      },
      "execution_count": 9,
      "outputs": [
        {
          "output_type": "stream",
          "name": "stdout",
          "text": [
            "The binary tree structure has 128189 nodes and has the following tree structure printed into decision table:\n",
            "[Node number], [Input feature index], [Value to compare], [Next node if ture], [Next node if false], [is leaf], [Output]\n",
            "\n",
            "\n",
            "[[ 0.00000e+00  1.10000e+01 -5.15500e+02 ...  4.04200e+03  0.00000e+00\n",
            "  -1.00000e+00]\n",
            " [ 1.00000e+00  1.30000e+01 -5.14500e+02 ...  1.05300e+03  0.00000e+00\n",
            "  -1.00000e+00]\n",
            " [ 2.00000e+00  1.70000e+01 -5.15500e+02 ...  4.18000e+02  0.00000e+00\n",
            "  -1.00000e+00]\n",
            " ...\n",
            " [ 1.28186e+05 -1.00000e+00 -1.00000e+00 ... -1.00000e+00  1.00000e+00\n",
            "   1.00000e+00]\n",
            " [ 1.28187e+05 -1.00000e+00 -1.00000e+00 ... -1.00000e+00  1.00000e+00\n",
            "   0.00000e+00]\n",
            " [ 1.28188e+05 -1.00000e+00 -1.00000e+00 ... -1.00000e+00  1.00000e+00\n",
            "   1.00000e+00]]\n"
          ]
        }
      ]
    },
    {
      "cell_type": "code",
      "source": [
        "file = open(\"/content/drive/MyDrive/inversion/decision_table.txt\", \"w+\")\n",
        "content = str(empty_array)\n",
        "file.write(content)\n",
        "file.close()"
      ],
      "metadata": {
        "id": "Lo5IQ2WKfKlC"
      },
      "execution_count": null,
      "outputs": []
    },
    {
      "cell_type": "markdown",
      "source": [
        "**The converted Pandas DataFrame have 128189 row which is the same as the number of the nodes in the decision tree. Every row has the necessary information to make predictions.**"
      ],
      "metadata": {
        "id": "WrZYCT6NlSpQ"
      }
    },
    {
      "cell_type": "code",
      "source": [
        "df = pd.DataFrame(empty_array, \n",
        "             columns=['Node number', \n",
        "                      'Input feature index',\n",
        "                      'Value to compare',\n",
        "                      'Next node if ture',\n",
        "                      'Next node if false',\n",
        "                      'is leaf',\n",
        "                      'Output'])\n",
        "\n",
        "df"
      ],
      "metadata": {
        "colab": {
          "base_uri": "https://localhost:8080/",
          "height": 424
        },
        "id": "ll1R4gHqfOBg",
        "outputId": "d1964519-2f71-41b3-a174-affc14edd69d"
      },
      "execution_count": 12,
      "outputs": [
        {
          "output_type": "execute_result",
          "data": {
            "text/plain": [
              "        Node number  Input feature index  Value to compare  Next node if ture  \\\n",
              "0               0.0                 11.0            -515.5                1.0   \n",
              "1               1.0                 13.0            -514.5                2.0   \n",
              "2               2.0                 17.0            -515.5                3.0   \n",
              "3               3.0                 36.0             497.5                4.0   \n",
              "4               4.0                  9.0             504.5                5.0   \n",
              "...             ...                  ...               ...                ...   \n",
              "128184     128184.0                 -1.0              -1.0               -1.0   \n",
              "128185     128185.0                 28.0            -511.0           128186.0   \n",
              "128186     128186.0                 -1.0              -1.0               -1.0   \n",
              "128187     128187.0                 -1.0              -1.0               -1.0   \n",
              "128188     128188.0                 -1.0              -1.0               -1.0   \n",
              "\n",
              "        Next node if false  is leaf  Output  \n",
              "0                   4042.0      0.0    -1.0  \n",
              "1                   1053.0      0.0    -1.0  \n",
              "2                    418.0      0.0    -1.0  \n",
              "3                    245.0      0.0    -1.0  \n",
              "4                    168.0      0.0    -1.0  \n",
              "...                    ...      ...     ...  \n",
              "128184                -1.0      1.0     0.0  \n",
              "128185            128187.0      0.0    -1.0  \n",
              "128186                -1.0      1.0     1.0  \n",
              "128187                -1.0      1.0     0.0  \n",
              "128188                -1.0      1.0     1.0  \n",
              "\n",
              "[128189 rows x 7 columns]"
            ],
            "text/html": [
              "\n",
              "  <div id=\"df-93bb64e5-a06d-44ae-8819-857a0ce36cf9\">\n",
              "    <div class=\"colab-df-container\">\n",
              "      <div>\n",
              "<style scoped>\n",
              "    .dataframe tbody tr th:only-of-type {\n",
              "        vertical-align: middle;\n",
              "    }\n",
              "\n",
              "    .dataframe tbody tr th {\n",
              "        vertical-align: top;\n",
              "    }\n",
              "\n",
              "    .dataframe thead th {\n",
              "        text-align: right;\n",
              "    }\n",
              "</style>\n",
              "<table border=\"1\" class=\"dataframe\">\n",
              "  <thead>\n",
              "    <tr style=\"text-align: right;\">\n",
              "      <th></th>\n",
              "      <th>Node number</th>\n",
              "      <th>Input feature index</th>\n",
              "      <th>Value to compare</th>\n",
              "      <th>Next node if ture</th>\n",
              "      <th>Next node if false</th>\n",
              "      <th>is leaf</th>\n",
              "      <th>Output</th>\n",
              "    </tr>\n",
              "  </thead>\n",
              "  <tbody>\n",
              "    <tr>\n",
              "      <th>0</th>\n",
              "      <td>0.0</td>\n",
              "      <td>11.0</td>\n",
              "      <td>-515.5</td>\n",
              "      <td>1.0</td>\n",
              "      <td>4042.0</td>\n",
              "      <td>0.0</td>\n",
              "      <td>-1.0</td>\n",
              "    </tr>\n",
              "    <tr>\n",
              "      <th>1</th>\n",
              "      <td>1.0</td>\n",
              "      <td>13.0</td>\n",
              "      <td>-514.5</td>\n",
              "      <td>2.0</td>\n",
              "      <td>1053.0</td>\n",
              "      <td>0.0</td>\n",
              "      <td>-1.0</td>\n",
              "    </tr>\n",
              "    <tr>\n",
              "      <th>2</th>\n",
              "      <td>2.0</td>\n",
              "      <td>17.0</td>\n",
              "      <td>-515.5</td>\n",
              "      <td>3.0</td>\n",
              "      <td>418.0</td>\n",
              "      <td>0.0</td>\n",
              "      <td>-1.0</td>\n",
              "    </tr>\n",
              "    <tr>\n",
              "      <th>3</th>\n",
              "      <td>3.0</td>\n",
              "      <td>36.0</td>\n",
              "      <td>497.5</td>\n",
              "      <td>4.0</td>\n",
              "      <td>245.0</td>\n",
              "      <td>0.0</td>\n",
              "      <td>-1.0</td>\n",
              "    </tr>\n",
              "    <tr>\n",
              "      <th>4</th>\n",
              "      <td>4.0</td>\n",
              "      <td>9.0</td>\n",
              "      <td>504.5</td>\n",
              "      <td>5.0</td>\n",
              "      <td>168.0</td>\n",
              "      <td>0.0</td>\n",
              "      <td>-1.0</td>\n",
              "    </tr>\n",
              "    <tr>\n",
              "      <th>...</th>\n",
              "      <td>...</td>\n",
              "      <td>...</td>\n",
              "      <td>...</td>\n",
              "      <td>...</td>\n",
              "      <td>...</td>\n",
              "      <td>...</td>\n",
              "      <td>...</td>\n",
              "    </tr>\n",
              "    <tr>\n",
              "      <th>128184</th>\n",
              "      <td>128184.0</td>\n",
              "      <td>-1.0</td>\n",
              "      <td>-1.0</td>\n",
              "      <td>-1.0</td>\n",
              "      <td>-1.0</td>\n",
              "      <td>1.0</td>\n",
              "      <td>0.0</td>\n",
              "    </tr>\n",
              "    <tr>\n",
              "      <th>128185</th>\n",
              "      <td>128185.0</td>\n",
              "      <td>28.0</td>\n",
              "      <td>-511.0</td>\n",
              "      <td>128186.0</td>\n",
              "      <td>128187.0</td>\n",
              "      <td>0.0</td>\n",
              "      <td>-1.0</td>\n",
              "    </tr>\n",
              "    <tr>\n",
              "      <th>128186</th>\n",
              "      <td>128186.0</td>\n",
              "      <td>-1.0</td>\n",
              "      <td>-1.0</td>\n",
              "      <td>-1.0</td>\n",
              "      <td>-1.0</td>\n",
              "      <td>1.0</td>\n",
              "      <td>1.0</td>\n",
              "    </tr>\n",
              "    <tr>\n",
              "      <th>128187</th>\n",
              "      <td>128187.0</td>\n",
              "      <td>-1.0</td>\n",
              "      <td>-1.0</td>\n",
              "      <td>-1.0</td>\n",
              "      <td>-1.0</td>\n",
              "      <td>1.0</td>\n",
              "      <td>0.0</td>\n",
              "    </tr>\n",
              "    <tr>\n",
              "      <th>128188</th>\n",
              "      <td>128188.0</td>\n",
              "      <td>-1.0</td>\n",
              "      <td>-1.0</td>\n",
              "      <td>-1.0</td>\n",
              "      <td>-1.0</td>\n",
              "      <td>1.0</td>\n",
              "      <td>1.0</td>\n",
              "    </tr>\n",
              "  </tbody>\n",
              "</table>\n",
              "<p>128189 rows × 7 columns</p>\n",
              "</div>\n",
              "      <button class=\"colab-df-convert\" onclick=\"convertToInteractive('df-93bb64e5-a06d-44ae-8819-857a0ce36cf9')\"\n",
              "              title=\"Convert this dataframe to an interactive table.\"\n",
              "              style=\"display:none;\">\n",
              "        \n",
              "  <svg xmlns=\"http://www.w3.org/2000/svg\" height=\"24px\"viewBox=\"0 0 24 24\"\n",
              "       width=\"24px\">\n",
              "    <path d=\"M0 0h24v24H0V0z\" fill=\"none\"/>\n",
              "    <path d=\"M18.56 5.44l.94 2.06.94-2.06 2.06-.94-2.06-.94-.94-2.06-.94 2.06-2.06.94zm-11 1L8.5 8.5l.94-2.06 2.06-.94-2.06-.94L8.5 2.5l-.94 2.06-2.06.94zm10 10l.94 2.06.94-2.06 2.06-.94-2.06-.94-.94-2.06-.94 2.06-2.06.94z\"/><path d=\"M17.41 7.96l-1.37-1.37c-.4-.4-.92-.59-1.43-.59-.52 0-1.04.2-1.43.59L10.3 9.45l-7.72 7.72c-.78.78-.78 2.05 0 2.83L4 21.41c.39.39.9.59 1.41.59.51 0 1.02-.2 1.41-.59l7.78-7.78 2.81-2.81c.8-.78.8-2.07 0-2.86zM5.41 20L4 18.59l7.72-7.72 1.47 1.35L5.41 20z\"/>\n",
              "  </svg>\n",
              "      </button>\n",
              "      \n",
              "  <style>\n",
              "    .colab-df-container {\n",
              "      display:flex;\n",
              "      flex-wrap:wrap;\n",
              "      gap: 12px;\n",
              "    }\n",
              "\n",
              "    .colab-df-convert {\n",
              "      background-color: #E8F0FE;\n",
              "      border: none;\n",
              "      border-radius: 50%;\n",
              "      cursor: pointer;\n",
              "      display: none;\n",
              "      fill: #1967D2;\n",
              "      height: 32px;\n",
              "      padding: 0 0 0 0;\n",
              "      width: 32px;\n",
              "    }\n",
              "\n",
              "    .colab-df-convert:hover {\n",
              "      background-color: #E2EBFA;\n",
              "      box-shadow: 0px 1px 2px rgba(60, 64, 67, 0.3), 0px 1px 3px 1px rgba(60, 64, 67, 0.15);\n",
              "      fill: #174EA6;\n",
              "    }\n",
              "\n",
              "    [theme=dark] .colab-df-convert {\n",
              "      background-color: #3B4455;\n",
              "      fill: #D2E3FC;\n",
              "    }\n",
              "\n",
              "    [theme=dark] .colab-df-convert:hover {\n",
              "      background-color: #434B5C;\n",
              "      box-shadow: 0px 1px 3px 1px rgba(0, 0, 0, 0.15);\n",
              "      filter: drop-shadow(0px 1px 2px rgba(0, 0, 0, 0.3));\n",
              "      fill: #FFFFFF;\n",
              "    }\n",
              "  </style>\n",
              "\n",
              "      <script>\n",
              "        const buttonEl =\n",
              "          document.querySelector('#df-93bb64e5-a06d-44ae-8819-857a0ce36cf9 button.colab-df-convert');\n",
              "        buttonEl.style.display =\n",
              "          google.colab.kernel.accessAllowed ? 'block' : 'none';\n",
              "\n",
              "        async function convertToInteractive(key) {\n",
              "          const element = document.querySelector('#df-93bb64e5-a06d-44ae-8819-857a0ce36cf9');\n",
              "          const dataTable =\n",
              "            await google.colab.kernel.invokeFunction('convertToInteractive',\n",
              "                                                     [key], {});\n",
              "          if (!dataTable) return;\n",
              "\n",
              "          const docLinkHtml = 'Like what you see? Visit the ' +\n",
              "            '<a target=\"_blank\" href=https://colab.research.google.com/notebooks/data_table.ipynb>data table notebook</a>'\n",
              "            + ' to learn more about interactive tables.';\n",
              "          element.innerHTML = '';\n",
              "          dataTable['output_type'] = 'display_data';\n",
              "          await google.colab.output.renderOutput(dataTable, element);\n",
              "          const docLink = document.createElement('div');\n",
              "          docLink.innerHTML = docLinkHtml;\n",
              "          element.appendChild(docLink);\n",
              "        }\n",
              "      </script>\n",
              "    </div>\n",
              "  </div>\n",
              "  "
            ]
          },
          "metadata": {},
          "execution_count": 12
        }
      ]
    },
    {
      "cell_type": "code",
      "source": [
        "df.to_csv('/content/drive/MyDrive/inversion/decision_table.csv', index=False) "
      ],
      "metadata": {
        "id": "tEkywfzmf39c"
      },
      "execution_count": null,
      "outputs": []
    },
    {
      "cell_type": "markdown",
      "source": [
        "**Function for making predictions**"
      ],
      "metadata": {
        "id": "OrTJuuOfl_tr"
      }
    },
    {
      "cell_type": "code",
      "source": [
        "def leaf(node):\n",
        "    i = node\n",
        "    leaf = df.loc[df['Node number'] == i]['is leaf'].values[0]\n",
        "    if leaf == 0:\n",
        "        node_op(i, variable)\n",
        "    else:\n",
        "        global predicted_class\n",
        "        predicted_class = generate_output(i)\n",
        "       \n",
        "    return predicted_class\n",
        "\n",
        "def node_op(node, variable):\n",
        "    i = node\n",
        "    variable_index = df.loc[df['Node number'] == i]['Input feature index'].values[0]\n",
        "    compare_value = df.loc[df['Node number'] == i]['Value to compare'].values[0]\n",
        "    if variable_index == np.nan:\n",
        "        leaf(i)\n",
        "    else:\n",
        "        variable_index = int(variable_index)\n",
        "        variable = variable[variable_index]\n",
        "    \n",
        "\n",
        "    if compare_value == np.nan:\n",
        "        leaf(i)\n",
        "    else:\n",
        "        if variable < compare_value:\n",
        "            node = df.loc[df['Node number'] == i]['Next node if ture'].values[0]\n",
        "        else: \n",
        "            node = df.loc[df['Node number'] == i]['Next node if false'].values[0]\n",
        "\n",
        "    final_output_from_tree = leaf(node)\n",
        "\n",
        "    return final_output_from_tree\n",
        "\n",
        "def generate_output(node):\n",
        "    i = node\n",
        "    predicted_class = df.loc[df['Node number'] == i]['Output'].values[0]\n",
        "    return predicted_class"
      ],
      "metadata": {
        "id": "6Gm9Sfhjf6c8"
      },
      "execution_count": 26,
      "outputs": []
    },
    {
      "cell_type": "code",
      "source": [
        "lable = Y_test.to_numpy()\n",
        "test = X_test.to_numpy()\n",
        "test[2]"
      ],
      "metadata": {
        "colab": {
          "base_uri": "https://localhost:8080/"
        },
        "id": "7Uxukb4ygIIv",
        "outputId": "e3022f7a-2eb3-441e-f7be-ae237e54e30e"
      },
      "execution_count": 21,
      "outputs": [
        {
          "output_type": "execute_result",
          "data": {
            "text/plain": [
              "array([ 210.,  446., -226., -478.,  187., -516., -225.,  447.,  212.,\n",
              "        441.,  215., -477., -225., -433., -204.,  423., -240., -524.,\n",
              "       -215., -477.,  160., -428.,  185., -463., -220., -482.,  440.,\n",
              "       -228., -502.,  168.,  490.,  138., -451., -230.,  445., -170.,\n",
              "        489.,  192., -478.,  151., -439., -209., -434.,  121., -474.,\n",
              "        168.,  507.,  160.,  502.,  171., -438.,  175.])"
            ]
          },
          "metadata": {},
          "execution_count": 21
        }
      ]
    },
    {
      "cell_type": "code",
      "source": [
        "node = 0\n",
        "sample = 2\n",
        "variable = test[sample] #input for test\n",
        "x = node_op(node, variable)\n",
        "print(\"Prediction for the inputs\", x)\n",
        "print(\"Actual output\", lable[sample])"
      ],
      "metadata": {
        "colab": {
          "base_uri": "https://localhost:8080/"
        },
        "id": "KVMc4m1dgsu3",
        "outputId": "0ce8d9c1-f1ea-447e-91db-2d0837d9ae1b"
      },
      "execution_count": 27,
      "outputs": [
        {
          "output_type": "stream",
          "name": "stdout",
          "text": [
            "Prediction for the inputs 0.0\n",
            "Actual output 0.0\n"
          ]
        }
      ]
    }
  ]
}