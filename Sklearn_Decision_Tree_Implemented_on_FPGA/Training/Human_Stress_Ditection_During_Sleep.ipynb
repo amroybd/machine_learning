{
  "cells": [
    {
      "cell_type": "code",
      "execution_count": null,
      "metadata": {
        "id": "ZzlzBKzs_flx"
      },
      "outputs": [],
      "source": [
        "import matplotlib.pyplot as plt\n",
        "%matplotlib inline\n",
        "import numpy as np\n",
        "import pandas as pd\n",
        "from sklearn.metrics import accuracy_score\n",
        "from sklearn.datasets import load_breast_cancer, load_diabetes, load_wine\n",
        "from sklearn.metrics import auc, accuracy_score, confusion_matrix, mean_squared_error\n",
        "from sklearn.model_selection import cross_val_score, GridSearchCV, KFold, RandomizedSearchCV, train_test_split\n",
        "from sklearn import tree\n",
        "from sklearn.tree import DecisionTreeClassifier\n",
        "import pickle"
      ]
    },
    {
      "cell_type": "code",
      "execution_count": null,
      "metadata": {
        "id": "ruQTMiPwB6jS"
      },
      "outputs": [],
      "source": [
        "data = pd.read_csv('Human_Stress_Detection.csv')"
      ]
    },
    {
      "cell_type": "code",
      "execution_count": null,
      "metadata": {
        "colab": {
          "base_uri": "https://localhost:8080/",
          "height": 206
        },
        "id": "PEF9BonsCAhf",
        "outputId": "74a2274a-d9c3-4adb-eb8a-ba6bd813e66e"
      },
      "outputs": [
        {
          "data": {
            "text/html": [
              "<div>\n",
              "<style scoped>\n",
              "    .dataframe tbody tr th:only-of-type {\n",
              "        vertical-align: middle;\n",
              "    }\n",
              "\n",
              "    .dataframe tbody tr th {\n",
              "        vertical-align: top;\n",
              "    }\n",
              "\n",
              "    .dataframe thead th {\n",
              "        text-align: right;\n",
              "    }\n",
              "</style>\n",
              "<table border=\"1\" class=\"dataframe\">\n",
              "  <thead>\n",
              "    <tr style=\"text-align: right;\">\n",
              "      <th></th>\n",
              "      <th>sr</th>\n",
              "      <th>rr</th>\n",
              "      <th>t</th>\n",
              "      <th>lm</th>\n",
              "      <th>bo</th>\n",
              "      <th>rem</th>\n",
              "      <th>sr.1</th>\n",
              "      <th>hr</th>\n",
              "      <th>sl</th>\n",
              "    </tr>\n",
              "  </thead>\n",
              "  <tbody>\n",
              "    <tr>\n",
              "      <th>0</th>\n",
              "      <td>93.80</td>\n",
              "      <td>25.68</td>\n",
              "      <td>91.84</td>\n",
              "      <td>16.60</td>\n",
              "      <td>89.84</td>\n",
              "      <td>99.60</td>\n",
              "      <td>1.84</td>\n",
              "      <td>74.20</td>\n",
              "      <td>3</td>\n",
              "    </tr>\n",
              "    <tr>\n",
              "      <th>1</th>\n",
              "      <td>91.64</td>\n",
              "      <td>25104.00</td>\n",
              "      <td>91552.00</td>\n",
              "      <td>15.88</td>\n",
              "      <td>89552.00</td>\n",
              "      <td>98.88</td>\n",
              "      <td>1552.00</td>\n",
              "      <td>72.76</td>\n",
              "      <td>3</td>\n",
              "    </tr>\n",
              "    <tr>\n",
              "      <th>2</th>\n",
              "      <td>60.00</td>\n",
              "      <td>20.00</td>\n",
              "      <td>96.00</td>\n",
              "      <td>10.00</td>\n",
              "      <td>95.00</td>\n",
              "      <td>85.00</td>\n",
              "      <td>7.00</td>\n",
              "      <td>60.00</td>\n",
              "      <td>1</td>\n",
              "    </tr>\n",
              "    <tr>\n",
              "      <th>3</th>\n",
              "      <td>85.76</td>\n",
              "      <td>23536.00</td>\n",
              "      <td>90768.00</td>\n",
              "      <td>13.92</td>\n",
              "      <td>88768.00</td>\n",
              "      <td>96.92</td>\n",
              "      <td>768.00</td>\n",
              "      <td>68.84</td>\n",
              "      <td>3</td>\n",
              "    </tr>\n",
              "    <tr>\n",
              "      <th>4</th>\n",
              "      <td>48.12</td>\n",
              "      <td>17248.00</td>\n",
              "      <td>97872.00</td>\n",
              "      <td>6496.00</td>\n",
              "      <td>96248.00</td>\n",
              "      <td>72.48</td>\n",
              "      <td>8248.00</td>\n",
              "      <td>53.12</td>\n",
              "      <td>0</td>\n",
              "    </tr>\n",
              "  </tbody>\n",
              "</table>\n",
              "</div>"
            ],
            "text/plain": [
              "      sr        rr         t       lm        bo    rem     sr.1     hr  sl\n",
              "0  93.80     25.68     91.84    16.60     89.84  99.60     1.84  74.20   3\n",
              "1  91.64  25104.00  91552.00    15.88  89552.00  98.88  1552.00  72.76   3\n",
              "2  60.00     20.00     96.00    10.00     95.00  85.00     7.00  60.00   1\n",
              "3  85.76  23536.00  90768.00    13.92  88768.00  96.92   768.00  68.84   3\n",
              "4  48.12  17248.00  97872.00  6496.00  96248.00  72.48  8248.00  53.12   0"
            ]
          },
          "execution_count": 24,
          "metadata": {},
          "output_type": "execute_result"
        }
      ],
      "source": [
        "data.head()"
      ]
    },
    {
      "cell_type": "code",
      "execution_count": null,
      "metadata": {
        "colab": {
          "base_uri": "https://localhost:8080/",
          "height": 250
        },
        "id": "L2ZhH_21CCXs",
        "outputId": "234a3a74-e892-402d-fad2-1fd8d6e52e4e"
      },
      "outputs": [
        {
          "data": {
            "text/html": [
              "<div>\n",
              "<style scoped>\n",
              "    .dataframe tbody tr th:only-of-type {\n",
              "        vertical-align: middle;\n",
              "    }\n",
              "\n",
              "    .dataframe tbody tr th {\n",
              "        vertical-align: top;\n",
              "    }\n",
              "\n",
              "    .dataframe thead th {\n",
              "        text-align: right;\n",
              "    }\n",
              "</style>\n",
              "<table border=\"1\" class=\"dataframe\">\n",
              "  <thead>\n",
              "    <tr style=\"text-align: right;\">\n",
              "      <th></th>\n",
              "      <th>snoring_rate</th>\n",
              "      <th>respiration_rate</th>\n",
              "      <th>body_temperature</th>\n",
              "      <th>limb_movement</th>\n",
              "      <th>blood_oxygen</th>\n",
              "      <th>eye_movement</th>\n",
              "      <th>sleeping_hours</th>\n",
              "      <th>heart_rate</th>\n",
              "      <th>stress_level</th>\n",
              "    </tr>\n",
              "  </thead>\n",
              "  <tbody>\n",
              "    <tr>\n",
              "      <th>0</th>\n",
              "      <td>93.80</td>\n",
              "      <td>25.68</td>\n",
              "      <td>91.84</td>\n",
              "      <td>16.60</td>\n",
              "      <td>89.84</td>\n",
              "      <td>99.60</td>\n",
              "      <td>1.84</td>\n",
              "      <td>74.20</td>\n",
              "      <td>3</td>\n",
              "    </tr>\n",
              "    <tr>\n",
              "      <th>1</th>\n",
              "      <td>91.64</td>\n",
              "      <td>25104.00</td>\n",
              "      <td>91552.00</td>\n",
              "      <td>15.88</td>\n",
              "      <td>89552.00</td>\n",
              "      <td>98.88</td>\n",
              "      <td>1552.00</td>\n",
              "      <td>72.76</td>\n",
              "      <td>3</td>\n",
              "    </tr>\n",
              "    <tr>\n",
              "      <th>2</th>\n",
              "      <td>60.00</td>\n",
              "      <td>20.00</td>\n",
              "      <td>96.00</td>\n",
              "      <td>10.00</td>\n",
              "      <td>95.00</td>\n",
              "      <td>85.00</td>\n",
              "      <td>7.00</td>\n",
              "      <td>60.00</td>\n",
              "      <td>1</td>\n",
              "    </tr>\n",
              "    <tr>\n",
              "      <th>3</th>\n",
              "      <td>85.76</td>\n",
              "      <td>23536.00</td>\n",
              "      <td>90768.00</td>\n",
              "      <td>13.92</td>\n",
              "      <td>88768.00</td>\n",
              "      <td>96.92</td>\n",
              "      <td>768.00</td>\n",
              "      <td>68.84</td>\n",
              "      <td>3</td>\n",
              "    </tr>\n",
              "    <tr>\n",
              "      <th>4</th>\n",
              "      <td>48.12</td>\n",
              "      <td>17248.00</td>\n",
              "      <td>97872.00</td>\n",
              "      <td>6496.00</td>\n",
              "      <td>96248.00</td>\n",
              "      <td>72.48</td>\n",
              "      <td>8248.00</td>\n",
              "      <td>53.12</td>\n",
              "      <td>0</td>\n",
              "    </tr>\n",
              "  </tbody>\n",
              "</table>\n",
              "</div>"
            ],
            "text/plain": [
              "   snoring_rate  respiration_rate  body_temperature  limb_movement  \\\n",
              "0         93.80             25.68             91.84          16.60   \n",
              "1         91.64          25104.00          91552.00          15.88   \n",
              "2         60.00             20.00             96.00          10.00   \n",
              "3         85.76          23536.00          90768.00          13.92   \n",
              "4         48.12          17248.00          97872.00        6496.00   \n",
              "\n",
              "   blood_oxygen  eye_movement  sleeping_hours  heart_rate  stress_level  \n",
              "0         89.84         99.60            1.84       74.20             3  \n",
              "1      89552.00         98.88         1552.00       72.76             3  \n",
              "2         95.00         85.00            7.00       60.00             1  \n",
              "3      88768.00         96.92          768.00       68.84             3  \n",
              "4      96248.00         72.48         8248.00       53.12             0  "
            ]
          },
          "execution_count": 25,
          "metadata": {},
          "output_type": "execute_result"
        }
      ],
      "source": [
        "data.rename(columns = {'sr':'snoring_rate', 'rr':'respiration_rate',\n",
        "                        't':'body_temperature', 'lm':'limb_movement', \n",
        "                        'bo':'blood_oxygen', 'rem':'eye_movement', \n",
        "                        'sr.1':'sleeping_hours','hr':'heart_rate', \n",
        "                        'sl':'stress_level'}, inplace = True)\n",
        "data.head()"
      ]
    },
    {
      "cell_type": "code",
      "execution_count": null,
      "metadata": {
        "colab": {
          "base_uri": "https://localhost:8080/"
        },
        "id": "BgXvDPMyFbtw",
        "outputId": "c3287e08-a6d8-49b1-bf62-d63ef81777ce"
      },
      "outputs": [
        {
          "data": {
            "text/plain": [
              "Index(['snoring_rate', 'respiration_rate', 'body_temperature', 'limb_movement',\n",
              "       'blood_oxygen', 'eye_movement', 'sleeping_hours', 'heart_rate'],\n",
              "      dtype='object')"
            ]
          },
          "execution_count": 26,
          "metadata": {},
          "output_type": "execute_result"
        }
      ],
      "source": [
        "feature_cols = data.columns[0:8]\n",
        "feature_cols"
      ]
    },
    {
      "cell_type": "markdown",
      "metadata": {
        "id": "Ry9cN9YAOPLe"
      },
      "source": [
        "**Prepare the data for training**"
      ]
    },
    {
      "cell_type": "code",
      "execution_count": null,
      "metadata": {
        "id": "H7O9hkX-j6WC"
      },
      "outputs": [],
      "source": [
        "X = data.drop(['stress_level'], axis='columns')\n",
        "y = data['stress_level']"
      ]
    },
    {
      "cell_type": "code",
      "execution_count": null,
      "metadata": {
        "id": "VMF5jUv7lLs1"
      },
      "outputs": [],
      "source": [
        "#use uint32 data type because of hw design\n",
        "X = X.astype(np.uint32)\n",
        "y = y.astype(np.uint32)"
      ]
    },
    {
      "cell_type": "code",
      "execution_count": null,
      "metadata": {
        "colab": {
          "base_uri": "https://localhost:8080/"
        },
        "id": "PaEJr_f3mlLL",
        "outputId": "02573c9a-9569-422a-ffe7-5ea5965c75a8"
      },
      "outputs": [
        {
          "name": "stdout",
          "output_type": "stream",
          "text": [
            "input data: /n      snoring_rate  respiration_rate  body_temperature  limb_movement  \\\n",
            "0              93                25                91             16   \n",
            "1              91             25104             91552             15   \n",
            "2              60                20                96             10   \n",
            "3              85             23536             90768             13   \n",
            "4              48             17248             97872           6496   \n",
            "..            ...               ...               ...            ...   \n",
            "625            69                20                92             10   \n",
            "626            48             17376             98064           6752   \n",
            "627         97504             27504                86          17752   \n",
            "628            58             19728             95728           9728   \n",
            "629            73             21392             93392          11392   \n",
            "\n",
            "     blood_oxygen  eye_movement  sleeping_hours  heart_rate  \n",
            "0              89            99               1          74  \n",
            "1           89552            98            1552          72  \n",
            "2              95            85               7          60  \n",
            "3           88768            96             768          68  \n",
            "4           96248            72            8248          53  \n",
            "..            ...           ...             ...         ...  \n",
            "625            90            89               3          62  \n",
            "626         96376            73            8376          53  \n",
            "627         84256           101               0          78  \n",
            "628         94592            84            6728          59  \n",
            "629         91392            91            4088          63  \n",
            "\n",
            "[630 rows x 8 columns]\n",
            "input data: /n 0      3\n",
            "1      3\n",
            "2      1\n",
            "3      3\n",
            "4      0\n",
            "      ..\n",
            "625    2\n",
            "626    0\n",
            "627    4\n",
            "628    1\n",
            "629    2\n",
            "Name: stress_level, Length: 630, dtype: uint32\n"
          ]
        }
      ],
      "source": [
        "print('input data: /n', X)\n",
        "print('input data: /n', y)"
      ]
    },
    {
      "cell_type": "code",
      "execution_count": null,
      "metadata": {
        "id": "CWavxuSAnOlf"
      },
      "outputs": [],
      "source": [
        "x_train, x_test, y_train, y_test = train_test_split(X, y, test_size=0.3, random_state=42, stratify=y)"
      ]
    },
    {
      "cell_type": "code",
      "execution_count": null,
      "metadata": {
        "colab": {
          "base_uri": "https://localhost:8080/"
        },
        "id": "u_dztP_2DuuL",
        "outputId": "4dbbf928-8efe-4143-b030-5549043f272f"
      },
      "outputs": [
        {
          "name": "stdout",
          "output_type": "stream",
          "text": [
            "Training input \n",
            "      snoring_rate  respiration_rate  body_temperature  limb_movement  \\\n",
            "206            67             20768             92768          10768   \n",
            "331            49                17                98              7   \n",
            "5              56             19376             95376           9376   \n",
            "119            54             18992             94992           8992   \n",
            "504            47             16864             97296           5728   \n",
            "111         96608             26608                85          17304   \n",
            "199            88             24336             91168             14   \n",
            "399            85                23                90             13   \n",
            "397            83             23024             90512             13   \n",
            "398            86             23824             90912             14   \n",
            "\n",
            "     blood_oxygen  eye_movement  sleeping_hours  heart_rate  \n",
            "206         90768            88            3152          61  \n",
            "331            96            76               8          54  \n",
            "5           94064            83            6376          58  \n",
            "119         93488            82            5992          57  \n",
            "504         95864            68            7864          52  \n",
            "111         82912           100               0          76  \n",
            "199         89168            97            1168          70  \n",
            "399            88            96               0          68  \n",
            "397         88512            96             512          67  \n",
            "398         88912            97             912          69  \n",
            "----------------------\n",
            "Trainng lebels \n",
            " 206    2\n",
            "331    0\n",
            "5      1\n",
            "119    1\n",
            "504    0\n",
            "111    4\n",
            "199    3\n",
            "399    3\n",
            "397    3\n",
            "398    3\n",
            "Name: stress_level, dtype: uint32\n"
          ]
        }
      ],
      "source": [
        "print('Training input \\n', x_train[0:10])\n",
        "print('----------------------')\n",
        "print('Trainng lebels \\n', y_train[0:10])"
      ]
    },
    {
      "cell_type": "markdown",
      "metadata": {
        "id": "Ui-_FlySOXFR"
      },
      "source": [
        "**Model creation and training**"
      ]
    },
    {
      "cell_type": "code",
      "execution_count": null,
      "metadata": {
        "colab": {
          "base_uri": "https://localhost:8080/"
        },
        "id": "awFnJvYQEP1y",
        "outputId": "edc7bfdf-bd49-41f9-be38-2ab57b584aec"
      },
      "outputs": [
        {
          "data": {
            "text/plain": [
              "DecisionTreeClassifier()"
            ]
          },
          "execution_count": 32,
          "metadata": {},
          "output_type": "execute_result"
        }
      ],
      "source": [
        "model_simple = tree.DecisionTreeClassifier()\n",
        "model_simple.fit(x_train, y_train)"
      ]
    },
    {
      "cell_type": "code",
      "execution_count": null,
      "metadata": {
        "colab": {
          "base_uri": "https://localhost:8080/"
        },
        "id": "I8SvC_ptFE4e",
        "outputId": "ed512e4f-705f-45f0-bd2c-7195406f1c71"
      },
      "outputs": [
        {
          "name": "stdout",
          "output_type": "stream",
          "text": [
            "model score: 0.9788359788359788\n"
          ]
        }
      ],
      "source": [
        "model_score = model_simple.score(x_test, y_test)\n",
        "print('model score:', model_score)"
      ]
    },
    {
      "cell_type": "markdown",
      "metadata": {
        "id": "VmH6BUZ_Odzn"
      },
      "source": [
        "**Model score and prediction on test data**"
      ]
    },
    {
      "cell_type": "code",
      "execution_count": null,
      "metadata": {
        "colab": {
          "base_uri": "https://localhost:8080/"
        },
        "id": "qQU0hZ6jFQEe",
        "outputId": "a97c31ed-33c8-4b40-85f1-4f43e7d8055a"
      },
      "outputs": [
        {
          "name": "stdout",
          "output_type": "stream",
          "text": [
            "samples 189\n",
            "match 185\n",
            "mismatch 4\n",
            "error 0.021164021164021163\n",
            "model score 97.88359788359789\n"
          ]
        }
      ],
      "source": [
        "predictions_test= model_simple.predict(x_test)\n",
        "print('samples', len(x_test))\n",
        "print('match', np.count_nonzero(predictions_test==y_test))\n",
        "print('mismatch', (len(x_test) - (np.count_nonzero(predictions_test==y_test))))\n",
        "print('error', ((len(x_test) - (np.count_nonzero(predictions_test==y_test))))/(len(x_test)))\n",
        "print('model score', model_simple.score(x_test, y_test)*100)"
      ]
    },
    {
      "cell_type": "code",
      "execution_count": null,
      "metadata": {
        "id": "BX3s2RPoBl6l"
      },
      "outputs": [],
      "source": [
        "classes = ['low/normal', 'medium low' , 'medium', 'medium high', 'high']"
      ]
    },
    {
      "cell_type": "code",
      "execution_count": null,
      "metadata": {
        "id": "rLCG8ugKvoZ-"
      },
      "outputs": [],
      "source": [
        "x_test = x_test.to_numpy(dtype=np.uint32)\n",
        "y_test = y_test.to_numpy(dtype=np.uint32)"
      ]
    },
    {
      "cell_type": "code",
      "execution_count": null,
      "metadata": {
        "colab": {
          "base_uri": "https://localhost:8080/"
        },
        "id": "sJQ4VbFdwaaz",
        "outputId": "4af64231-27d0-45bc-ae2d-c1c67877c7c4"
      },
      "outputs": [
        {
          "data": {
            "text/plain": [
              "array([   91, 25008, 91504,    15, 89504,    98,  1504,    72],\n",
              "      dtype=uint32)"
            ]
          },
          "execution_count": 38,
          "metadata": {},
          "output_type": "execute_result"
        }
      ],
      "source": [
        "x_test[12]"
      ]
    },
    {
      "cell_type": "code",
      "execution_count": null,
      "metadata": {
        "id": "2jcWi7fB1bHD",
        "outputId": "95113c63-80c9-4cf7-b394-ff28f874cf61"
      },
      "outputs": [
        {
          "data": {
            "text/plain": [
              "3"
            ]
          },
          "execution_count": 39,
          "metadata": {},
          "output_type": "execute_result"
        }
      ],
      "source": [
        "y_test[12]"
      ]
    },
    {
      "cell_type": "code",
      "execution_count": null,
      "metadata": {
        "colab": {
          "base_uri": "https://localhost:8080/"
        },
        "id": "U0gAqFgSC0n5",
        "outputId": "fad85322-8baa-481c-daf4-d716e89121e8"
      },
      "outputs": [
        {
          "name": "stdout",
          "output_type": "stream",
          "text": [
            "Predected stress level during sleep:  medium high\n",
            "Actual stress level during sleep:  medium high\n"
          ]
        },
        {
          "name": "stderr",
          "output_type": "stream",
          "text": [
            "/net/users/Linux_Home/roy/tf/lib/python3.8/site-packages/sklearn/base.py:450: UserWarning: X does not have valid feature names, but DecisionTreeClassifier was fitted with feature names\n",
            "  warnings.warn(\n"
          ]
        }
      ],
      "source": [
        "sample = 12\n",
        "predictions = model_simple.predict(x_test[sample].reshape(1, -1))\n",
        "#return position of max  \n",
        "index = predictions[0].astype(int)\n",
        "prediction_label=classes[index]\n",
        "print('Predected stress level during sleep: ',prediction_label) \n",
        "print('Actual stress level during sleep: ', classes[y_test[sample].astype(int)])"
      ]
    },
    {
      "cell_type": "markdown",
      "metadata": {
        "id": "hjKf79SEOrZ7"
      },
      "source": [
        "**Vizualization of tree**"
      ]
    },
    {
      "cell_type": "code",
      "execution_count": null,
      "metadata": {
        "colab": {
          "base_uri": "https://localhost:8080/"
        },
        "id": "LwR4qRD7Fw4M",
        "outputId": "2be1164c-5f18-4b9a-8b9e-f827a1a07ce6"
      },
      "outputs": [
        {
          "name": "stdout",
          "output_type": "stream",
          "text": [
            "Max Depth: 3\n"
          ]
        }
      ],
      "source": [
        "print('Max Depth:', model_simple.tree_.max_depth)"
      ]
    },
    {
      "cell_type": "code",
      "execution_count": null,
      "metadata": {
        "colab": {
          "base_uri": "https://localhost:8080/"
        },
        "id": "eYlb_l_hGc3O",
        "outputId": "a39307d6-9ac0-4076-b6ea-e7c74729f2a0"
      },
      "outputs": [
        {
          "name": "stdout",
          "output_type": "stream",
          "text": [
            "Number of decision nodes 4\n"
          ]
        }
      ],
      "source": [
        "from sklearn.tree import _tree\n",
        "ifs_count = len([x for x in model_simple.tree_.feature if x != _tree.TREE_UNDEFINED])\n",
        "print('Number of decision nodes', ifs_count)"
      ]
    },
    {
      "cell_type": "code",
      "execution_count": null,
      "metadata": {
        "colab": {
          "base_uri": "https://localhost:8080/"
        },
        "id": "1c2ulZu1G9_F",
        "outputId": "8f9e6c6a-d43f-4e12-9288-b37d0af5e322"
      },
      "outputs": [
        {
          "data": {
            "text/plain": [
              "Index(['snoring_rate', 'respiration_rate', 'body_temperature', 'limb_movement',\n",
              "       'blood_oxygen', 'eye_movement', 'sleeping_hours', 'heart_rate'],\n",
              "      dtype='object')"
            ]
          },
          "execution_count": 15,
          "metadata": {},
          "output_type": "execute_result"
        }
      ],
      "source": [
        "feature_cols = data.columns[0:8]\n",
        "feature_cols"
      ]
    },
    {
      "cell_type": "code",
      "execution_count": null,
      "metadata": {
        "colab": {
          "base_uri": "https://localhost:8080/",
          "height": 594
        },
        "id": "qpqLlsKNGvZT",
        "outputId": "a91a98b2-c3c5-4433-a781-15bd51359683"
      },
      "outputs": [
        {
          "data": {
            "image/png": "[encoded data removed]",
            "text/plain": [
              "<IPython.core.display.Image object>"
            ]
          },
          "execution_count": 73,
          "metadata": {},
          "output_type": "execute_result"
        }
      ],
      "source": [
        "\n",
        "from sklearn.tree import export_graphviz\n",
        "from six import StringIO  \n",
        "from IPython.display import Image  \n",
        "import pydotplus\n",
        "\n",
        "dot_data = StringIO()\n",
        "export_graphviz(model_simple, out_file=dot_data,  \n",
        "                filled=True, rounded=True,\n",
        "                special_characters=True,feature_names = feature_cols,class_names=['0','1', '2', '3', '4'])\n",
        "graph = pydotplus.graph_from_dot_data(dot_data.getvalue())  \n",
        "graph.write_png('tree_img.png')\n",
        "Image(graph.create_png())"
      ]
    },
    {
      "cell_type": "markdown",
      "metadata": {
        "id": "FrIYeaWZPdZ_"
      },
      "source": [
        "**Data visualization**"
      ]
    },
    {
      "cell_type": "code",
      "execution_count": null,
      "metadata": {
        "id": "__sRxnkNXqag"
      },
      "outputs": [],
      "source": [
        "data_analyse = pd.read_csv('/content/drive/MyDrive/Human_Stress_Detection.csv')\n",
        "data_analyse.rename(columns = {'sr':'snoring_rate', 'rr':'respiration_rate',\n",
        "                        't':'body_temperature', 'lm':'limb_movement', \n",
        "                        'bo':'blood_oxygen', 'rem':'eye_movement', \n",
        "                        'sr.1':'sleeping_hours','hr':'heart_rate', \n",
        "                        'sl':'stress_level'}, inplace = True)\n"
      ]
    },
    {
      "cell_type": "code",
      "execution_count": null,
      "metadata": {
        "colab": {
          "base_uri": "https://localhost:8080/",
          "height": 347
        },
        "id": "uIym2yUDI0o0",
        "outputId": "ac231ff8-3eb1-4ad1-e4cb-c7ee4d64b701"
      },
      "outputs": [
        {
          "data": {
            "image/png": "[encoded data removed]",
            "text/plain": [
              "<Figure size 1440x360 with 1 Axes>"
            ]
          },
          "metadata": {
            "needs_background": "light"
          },
          "output_type": "display_data"
        }
      ],
      "source": [
        "import seaborn as sns\n",
        "plt.figure(figsize=(20,5))\n",
        "sns.lineplot(x='heart_rate',y='stress_level',data=data_analyse)\n",
        "plt.xlabel(\"heart rate\")\n",
        "plt.ylabel('Stress Level')\n",
        "plt.title('heart_rate vs Stress Level')\n",
        "plt.xticks(rotation=0)\n",
        "plt.show()"
      ]
    },
    {
      "cell_type": "markdown",
      "metadata": {
        "id": "pInbXcRw1bHG"
      },
      "source": [
        "**Convert decision tree to if-else**"
      ]
    },
    {
      "cell_type": "code",
      "execution_count": null,
      "metadata": {
        "id": "ccDs0yfx7Kmu"
      },
      "outputs": [],
      "source": [
        "import numpy as np\n",
        "from sklearn.tree import _tree\n",
        "\n",
        "def tree_to_code(tree, feature_names):\n",
        "    tree_ = tree.tree_\n",
        "    feature_name = [feature_names[i] \n",
        "                    if i != _tree.TREE_UNDEFINED else \"undefined!\" \n",
        "                    for i in tree_.feature]\n",
        "    print(\"def tree({}):\".format(\", \".join(feature_names)))\n",
        "\n",
        "    def recurse(node, depth):\n",
        "        indent = \"    \" * depth\n",
        "        if tree_.feature[node] != _tree.TREE_UNDEFINED:\n",
        "            name = feature_name[node]\n",
        "            threshold = tree_.threshold[node]\n",
        "            print(\"{}if {} <= {}:\".format(indent, name, threshold))\n",
        "            recurse(tree_.children_left[node], depth + 1)\n",
        "            print(\"{}else:  # if {} > {}\".format(indent, name, threshold))\n",
        "            recurse(tree_.children_right[node], depth + 1)\n",
        "        else:\n",
        "            print(\"{}return {}\".format(indent, np.argmax(tree_.value[node])))\n",
        "\n",
        "    recurse(0, 1)"
      ]
    },
    {
      "cell_type": "code",
      "execution_count": null,
      "metadata": {
        "colab": {
          "base_uri": "https://localhost:8080/"
        },
        "id": "Q7OJDj7C_7hN",
        "outputId": "d70d049a-fe67-4ad4-b6e8-07b9eecbe130"
      },
      "outputs": [
        {
          "name": "stdout",
          "output_type": "stream",
          "text": [
            "def tree(snoring_rate, respiration_rate, body_temperature, limb_movement, blood_oxygen, eye_movement, sleeping_hours, heart_rate):\n",
            "    if eye_movement <= 84.5:\n",
            "        if eye_movement <= 79.5:\n",
            "            return 0\n",
            "        else:  # if eye_movement > 79.5\n",
            "            return 1\n",
            "    else:  # if eye_movement > 84.5\n",
            "        if snoring_rate <= 79.5:\n",
            "            return 2\n",
            "        else:  # if snoring_rate > 79.5\n",
            "            if heart_rate <= 74.5:\n",
            "                return 3\n",
            "            else:  # if heart_rate > 74.5\n",
            "                return 4\n"
          ]
        }
      ],
      "source": [
        "tree_to_code(model_simple, feature_cols)"
      ]
    },
    {
      "cell_type": "markdown",
      "metadata": {
        "id": "dbI21g8G1bHH"
      },
      "source": [
        "**Check converted if-else with test data**\n",
        "\n",
        "with little modification I have used this code to build the hardware. You can check the changed code in decision_tree_raw/src/decision_tree.cpp file"
      ]
    },
    {
      "cell_type": "code",
      "execution_count": null,
      "metadata": {
        "id": "U4MompfKNwcJ"
      },
      "outputs": [],
      "source": [
        "def tree(snoring_rate, respiration_rate, body_temperature, limb_movement, blood_oxygen, eye_movement, sleeping_hours, heart_rate):\n",
        "    if eye_movement <= 84.5:\n",
        "        if eye_movement <= 79.5:\n",
        "            return 0\n",
        "        else:  # if eye_movement > 79.5\n",
        "            return 1\n",
        "    else:  # if eye_movement > 84.5\n",
        "        if snoring_rate <= 79.5:\n",
        "            return 2\n",
        "        else:  # if snoring_rate > 79.5\n",
        "            if heart_rate <= 74.5:\n",
        "                return 3\n",
        "            else:  # if heart_rate > 74.5\n",
        "                return 4\n"
      ]
    },
    {
      "cell_type": "markdown",
      "metadata": {},
      "source": [
        "**The ture lable and predected label is same**"
      ]
    },
    {
      "cell_type": "code",
      "execution_count": null,
      "metadata": {
        "colab": {
          "base_uri": "https://localhost:8080/"
        },
        "id": "W2jLCHUiN9L-",
        "outputId": "74af7d7e-00ad-4cf5-dbc1-455ec6d12c1d"
      },
      "outputs": [
        {
          "name": "stdout",
          "output_type": "stream",
          "text": [
            "Prediction: 2\n"
          ]
        }
      ],
      "source": [
        "Prediction = tree(67, 20768, 92768, 10768, 90768, 88, 3152, 61)\n",
        "print('Prediction:', Prediction)"
      ]
    }
  ],
  "metadata": {
    "colab": {
      "collapsed_sections": [],
      "name": "Human_Stress_Ditection_During_Sleep.ipynb",
      "provenance": []
    },
    "kernelspec": {
      "display_name": "Python 3",
      "name": "python3"
    },
    "language_info": {
      "codemirror_mode": {
        "name": "ipython",
        "version": 3
      },
      "file_extension": ".py",
      "mimetype": "text/x-python",
      "name": "python",
      "nbconvert_exporter": "python",
      "pygments_lexer": "ipython3",
      "version": "3.8.10"
    }
  },
  "nbformat": 4,
  "nbformat_minor": 0
}
