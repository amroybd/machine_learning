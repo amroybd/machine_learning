{
 "cells": [
  {
   "cell_type": "code",
   "execution_count": 1,
   "id": "17b11fc2",
   "metadata": {},
   "outputs": [
    {
     "name": "stderr",
     "output_type": "stream",
     "text": [
      "XRT build version: 2.12.427\n",
      "Build hash: 2719b6027e185000fc49783171631db03fc0ef79\n",
      "Build date: 2021-10-08 22:06:50\n",
      "Git branch: 2021.2\n",
      "PID: 2851882\n",
      "UID: 4601296\n",
      "[Fri Apr  1 13:36:36 2022 GMT]\n",
      "HOST: mispel\n",
      "EXE: /opt/xilinx/xrt/bin/unwrapped/xbutil2\n",
      "[XRT] INFO: ini\n",
      "[XRT] INFO: ~shi\n"
     ]
    },
    {
     "data": {
      "application/javascript": [
       "\n",
       "try {\n",
       "require(['notebook/js/codecell'], function(codecell) {\n",
       "  codecell.CodeCell.options_default.highlight_modes[\n",
       "      'magic_text/x-csrc'] = {'reg':[/^%%microblaze/]};\n",
       "  Jupyter.notebook.events.one('kernel_ready.Kernel', function(){\n",
       "      Jupyter.notebook.get_cells().map(function(cell){\n",
       "          if (cell.cell_type == 'code'){ cell.auto_highlight(); } }) ;\n",
       "  });\n",
       "});\n",
       "} catch (e) {};\n"
      ]
     },
     "metadata": {},
     "output_type": "display_data"
    },
    {
     "data": {
      "application/javascript": [
       "\n",
       "try {\n",
       "require(['notebook/js/codecell'], function(codecell) {\n",
       "  codecell.CodeCell.options_default.highlight_modes[\n",
       "      'magic_text/x-csrc'] = {'reg':[/^%%pybind11/]};\n",
       "  Jupyter.notebook.events.one('kernel_ready.Kernel', function(){\n",
       "      Jupyter.notebook.get_cells().map(function(cell){\n",
       "          if (cell.cell_type == 'code'){ cell.auto_highlight(); } }) ;\n",
       "  });\n",
       "});\n",
       "} catch (e) {};\n"
      ]
     },
     "metadata": {},
     "output_type": "display_data"
    }
   ],
   "source": [
    "import pynq\n",
    "import numpy as np"
   ]
  },
  {
   "cell_type": "code",
   "execution_count": 2,
   "id": "0e7f59ff",
   "metadata": {},
   "outputs": [
    {
     "name": "stderr",
     "output_type": "stream",
     "text": [
      "XRT build version: 2.12.427\n",
      "Build hash: 2719b6027e185000fc49783171631db03fc0ef79\n",
      "Build date: 2021-10-08 22:06:50\n",
      "Git branch: 2021.2\n",
      "PID: 2851826\n",
      "UID: 4601296\n",
      "[Fri Apr  1 13:36:53 2022 GMT]\n",
      "HOST: mispel\n",
      "EXE: /usr/bin/python3.8\n",
      "[XRT] INFO: ini\n",
      "[XRT] INFO: xclLoadAxlf, buffer: xclbin\n",
      "[XRT] INFO: xclExecBuf, cmdBO: \n"
     ]
    }
   ],
   "source": [
    "ol = pynq.Overlay(\"decision_tree.xclbin\")"
   ]
  },
  {
   "cell_type": "code",
   "execution_count": 3,
   "id": "65d3c70d",
   "metadata": {},
   "outputs": [],
   "source": [
    "ol?"
   ]
  },
  {
   "cell_type": "code",
   "execution_count": 4,
   "id": "5c3b75b4",
   "metadata": {},
   "outputs": [],
   "source": [
    "tree = ol.decision_tree_1"
   ]
  },
  {
   "cell_type": "code",
   "execution_count": 5,
   "id": "aee34236",
   "metadata": {},
   "outputs": [
    {
     "name": "stderr",
     "output_type": "stream",
     "text": [
      "[XRT] INFO: xclWrite: space: 2, offset:0x1800000, reg:12\n"
     ]
    }
   ],
   "source": [
    "tree.write(0x00, 0x81)\n",
    "size = 1*1\n",
    "a = pynq.allocate((1, 1), np.uint32)\n",
    "b = pynq.allocate((1, 1), np.uint32)\n",
    "c = pynq.allocate((1, 1), np.uint32)\n",
    "d = pynq.allocate((1, 1), np.uint32)\n",
    "e = pynq.allocate((1, 1), np.uint32)\n",
    "f = pynq.allocate((1, 1), np.uint32)\n",
    "g = pynq.allocate((1, 1), np.uint32)\n",
    "h = pynq.allocate((1, 1), np.uint32)\n",
    "out = pynq.allocate((1, 1), np.uint32)"
   ]
  },
  {
   "cell_type": "code",
   "execution_count": 6,
   "id": "89039747",
   "metadata": {},
   "outputs": [],
   "source": [
    "a[:] = 91\n",
    "b[:] = 25008\n",
    "c[:] = 91504\n",
    "d[:] = 15\n",
    "e[:] = 89504\n",
    "f[:] = 98\n",
    "g[:] = 1504\n",
    "h[:] = 72 "
   ]
  },
  {
   "cell_type": "code",
   "execution_count": 7,
   "id": "6392c492",
   "metadata": {},
   "outputs": [],
   "source": [
    "a.sync_to_device()\n",
    "b.sync_to_device()\n",
    "c.sync_to_device()\n",
    "d.sync_to_device()\n",
    "e.sync_to_device()\n",
    "f.sync_to_device()\n",
    "g.sync_to_device()\n",
    "h.sync_to_device()"
   ]
  },
  {
   "cell_type": "code",
   "execution_count": 8,
   "id": "f3e3f0d5",
   "metadata": {},
   "outputs": [
    {
     "name": "stderr",
     "output_type": "stream",
     "text": [
      "[XRT] INFO: xclWrite: space: 2, offset:0x1800000, reg:\n",
      "[XRT] INFO: xclWrite: space: 2, offset:0x1800001, reg:\n",
      "[XRT] INFO: xclWrite: space: 2, offset:0x1800002, reg:\n",
      "[XRT] INFO: xclWrite: space: 2, offset:0x1800003, reg:\n",
      "[XRT] INFO: xclWrite: space: 2, offset:0x1800004, reg:\n",
      "[XRT] INFO: xclWrite: space: 2, offset:0x1800005, reg:\n",
      "[XRT] INFO: xclWrite: space: 2, offset:0x1800006, reg:\n",
      "[XRT] INFO: xclWrite: space: 2, offset:0x1800007, reg:409\n",
      "[XRT] INFO: xclWrite: space: 2, offset:0x1800008, reg:\n",
      "[XRT] INFO: xclWrite: space: 2, offset:0x1800009, reg:\n",
      "[XRT] INFO: xclWrite: space: 2, offset:0x180000a, reg:819\n",
      "[XRT] INFO: xclWrite: space: 2, offset:0x180000b, reg:\n",
      "[XRT] INFO: xclWrite: space: 2, offset:0x180000c, reg:\n",
      "[XRT] INFO: xclWrite: space: 2, offset:0x180000d, reg:1228\n",
      "[XRT] INFO: xclWrite: space: 2, offset:0x180000e, reg:\n",
      "[XRT] INFO: xclWrite: space: 2, offset:0x180000f, reg:\n",
      "[XRT] INFO: xclWrite: space: 2, offset:0x1800010, reg:1638\n",
      "[XRT] INFO: xclWrite: space: 2, offset:0x1800011, reg:\n",
      "[XRT] INFO: xclWrite: space: 2, offset:0x1800012, reg:\n",
      "[XRT] INFO: xclWrite: space: 2, offset:0x1800013, reg:2048\n",
      "[XRT] INFO: xclWrite: space: 2, offset:0x1800014, reg:\n",
      "[XRT] INFO: xclWrite: space: 2, offset:0x1800015, reg:\n",
      "[XRT] INFO: xclWrite: space: 2, offset:0x1800016, reg:2457\n",
      "[XRT] INFO: xclWrite: space: 2, offset:0x1800017, reg:\n",
      "[XRT] INFO: xclWrite: space: 2, offset:0x1800018, reg:\n",
      "[XRT] INFO: xclWrite: space: 2, offset:0x1800019, reg:2867\n",
      "[XRT] INFO: xclWrite: space: 2, offset:0x180001a, reg:\n",
      "[XRT] INFO: xclWrite: space: 2, offset:0x180001b, reg:\n",
      "[XRT] INFO: xclWrite: space: 2, offset:0x180001c, reg:3276\n",
      "[XRT] INFO: xclWrite: space: 2, offset:0x180001d, reg:\n",
      "[XRT] INFO: xclWrite: space: 2, offset:0x180001e, reg:\n",
      "[XRT] INFO: xclWrite: space: 2, offset:0x180001f, reg:\n",
      "[XRT] INFO: xclWrite: space: 2, offset:0x1800000, reg:\n",
      "[XRT] INFO: xclRead, space: 2, offset: 25165824, hostBuf: , size: \n",
      "[XRT] INFO: xclRead: space: 2, offset:0x1800000, reg:1\n"
     ]
    }
   ],
   "source": [
    "tree.call(a, b, c, d, e, f, g, h, out, size)"
   ]
  },
  {
   "cell_type": "code",
   "execution_count": 9,
   "id": "7f819391",
   "metadata": {},
   "outputs": [],
   "source": [
    "out.sync_from_device()"
   ]
  },
  {
   "cell_type": "code",
   "execution_count": 10,
   "id": "4dd78a02",
   "metadata": {},
   "outputs": [
    {
     "name": "stdout",
     "output_type": "stream",
     "text": [
      "output of the tree \n",
      " [[3]]\n"
     ]
    }
   ],
   "source": [
    "# Check decision tree training notebook. The sklearn prediction and output from the Alveo board are same\n",
    "print('output of the tree \\n',out)"
   ]
  },
  {
   "cell_type": "code",
   "execution_count": 11,
   "id": "e4d6ff27",
   "metadata": {},
   "outputs": [],
   "source": [
    "del a\n",
    "del b\n",
    "del c\n",
    "del d\n",
    "del e\n",
    "del f\n",
    "del g\n",
    "del h\n",
    "del out\n",
    "ol.free()"
   ]
  },
  {
   "cell_type": "code",
   "execution_count": null,
   "id": "acbd3c1b",
   "metadata": {},
   "outputs": [],
   "source": []
  }
 ],
 "metadata": {
  "kernelspec": {
   "display_name": "Python 3 (ipykernel)",
   "language": "python",
   "name": "python3"
  },
  "language_info": {
   "codemirror_mode": {
    "name": "ipython",
    "version": 3
   },
   "file_extension": ".py",
   "mimetype": "text/x-python",
   "name": "python",
   "nbconvert_exporter": "python",
   "pygments_lexer": "ipython3",
   "version": "3.8.10"
  }
 },
 "nbformat": 4,
 "nbformat_minor": 5
}
