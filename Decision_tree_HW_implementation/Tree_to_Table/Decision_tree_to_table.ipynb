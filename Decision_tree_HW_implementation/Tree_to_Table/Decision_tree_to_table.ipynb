{
  "cells": [
    {
      "cell_type": "markdown",
      "metadata": {},
      "source": [
        "Here, I have demonstrated various ways of a trained decision tree. I have trained the model with sklearn. Then I have converted the decision tree model to if-else code and also covert the tree into a decision table. Also demonstrated how to use that if-else code and decision table to make predictions."
      ]
    },
    {
      "cell_type": "code",
      "execution_count": 38,
      "metadata": {
        "id": "ZzlzBKzs_flx"
      },
      "outputs": [],
      "source": [
        "import matplotlib.pyplot as plt\n",
        "%matplotlib inline\n",
        "import numpy as np\n",
        "import pandas as pd\n",
        "from sklearn.metrics import accuracy_score\n",
        "from sklearn.datasets import load_breast_cancer, load_diabetes, load_wine\n",
        "from sklearn.metrics import auc, accuracy_score, confusion_matrix, mean_squared_error\n",
        "from sklearn.model_selection import cross_val_score, GridSearchCV, KFold, RandomizedSearchCV, train_test_split\n",
        "from sklearn import tree\n",
        "from sklearn.tree import DecisionTreeClassifier\n",
        "import pickle"
      ]
    },
    {
      "cell_type": "code",
      "execution_count": 39,
      "metadata": {
        "id": "ruQTMiPwB6jS"
      },
      "outputs": [],
      "source": [
        "data = pd.read_csv('Human_Stress_Detection.csv')"
      ]
    },
    {
      "cell_type": "code",
      "execution_count": 40,
      "metadata": {
        "colab": {
          "base_uri": "https://localhost:8080/",
          "height": 206
        },
        "id": "PEF9BonsCAhf",
        "outputId": "74a2274a-d9c3-4adb-eb8a-ba6bd813e66e"
      },
      "outputs": [
        {
          "data": {
            "text/html": [
              "<div>\n",
              "<style scoped>\n",
              "    .dataframe tbody tr th:only-of-type {\n",
              "        vertical-align: middle;\n",
              "    }\n",
              "\n",
              "    .dataframe tbody tr th {\n",
              "        vertical-align: top;\n",
              "    }\n",
              "\n",
              "    .dataframe thead th {\n",
              "        text-align: right;\n",
              "    }\n",
              "</style>\n",
              "<table border=\"1\" class=\"dataframe\">\n",
              "  <thead>\n",
              "    <tr style=\"text-align: right;\">\n",
              "      <th></th>\n",
              "      <th>sr</th>\n",
              "      <th>rr</th>\n",
              "      <th>t</th>\n",
              "      <th>lm</th>\n",
              "      <th>bo</th>\n",
              "      <th>rem</th>\n",
              "      <th>sr.1</th>\n",
              "      <th>hr</th>\n",
              "      <th>sl</th>\n",
              "    </tr>\n",
              "  </thead>\n",
              "  <tbody>\n",
              "    <tr>\n",
              "      <th>0</th>\n",
              "      <td>93.80</td>\n",
              "      <td>25.68</td>\n",
              "      <td>91.84</td>\n",
              "      <td>16.60</td>\n",
              "      <td>89.84</td>\n",
              "      <td>99.60</td>\n",
              "      <td>1.84</td>\n",
              "      <td>74.20</td>\n",
              "      <td>3</td>\n",
              "    </tr>\n",
              "    <tr>\n",
              "      <th>1</th>\n",
              "      <td>91.64</td>\n",
              "      <td>25104.00</td>\n",
              "      <td>91552.00</td>\n",
              "      <td>15.88</td>\n",
              "      <td>89552.00</td>\n",
              "      <td>98.88</td>\n",
              "      <td>1552.00</td>\n",
              "      <td>72.76</td>\n",
              "      <td>3</td>\n",
              "    </tr>\n",
              "    <tr>\n",
              "      <th>2</th>\n",
              "      <td>60.00</td>\n",
              "      <td>20.00</td>\n",
              "      <td>96.00</td>\n",
              "      <td>10.00</td>\n",
              "      <td>95.00</td>\n",
              "      <td>85.00</td>\n",
              "      <td>7.00</td>\n",
              "      <td>60.00</td>\n",
              "      <td>1</td>\n",
              "    </tr>\n",
              "    <tr>\n",
              "      <th>3</th>\n",
              "      <td>85.76</td>\n",
              "      <td>23536.00</td>\n",
              "      <td>90768.00</td>\n",
              "      <td>13.92</td>\n",
              "      <td>88768.00</td>\n",
              "      <td>96.92</td>\n",
              "      <td>768.00</td>\n",
              "      <td>68.84</td>\n",
              "      <td>3</td>\n",
              "    </tr>\n",
              "    <tr>\n",
              "      <th>4</th>\n",
              "      <td>48.12</td>\n",
              "      <td>17248.00</td>\n",
              "      <td>97872.00</td>\n",
              "      <td>6496.00</td>\n",
              "      <td>96248.00</td>\n",
              "      <td>72.48</td>\n",
              "      <td>8248.00</td>\n",
              "      <td>53.12</td>\n",
              "      <td>0</td>\n",
              "    </tr>\n",
              "  </tbody>\n",
              "</table>\n",
              "</div>"
            ],
            "text/plain": [
              "      sr        rr         t       lm        bo    rem     sr.1     hr  sl\n",
              "0  93.80     25.68     91.84    16.60     89.84  99.60     1.84  74.20   3\n",
              "1  91.64  25104.00  91552.00    15.88  89552.00  98.88  1552.00  72.76   3\n",
              "2  60.00     20.00     96.00    10.00     95.00  85.00     7.00  60.00   1\n",
              "3  85.76  23536.00  90768.00    13.92  88768.00  96.92   768.00  68.84   3\n",
              "4  48.12  17248.00  97872.00  6496.00  96248.00  72.48  8248.00  53.12   0"
            ]
          },
          "execution_count": 40,
          "metadata": {},
          "output_type": "execute_result"
        }
      ],
      "source": [
        "data.head()"
      ]
    },
    {
      "cell_type": "code",
      "execution_count": 41,
      "metadata": {
        "colab": {
          "base_uri": "https://localhost:8080/",
          "height": 250
        },
        "id": "L2ZhH_21CCXs",
        "outputId": "234a3a74-e892-402d-fad2-1fd8d6e52e4e"
      },
      "outputs": [
        {
          "data": {
            "text/html": [
              "<div>\n",
              "<style scoped>\n",
              "    .dataframe tbody tr th:only-of-type {\n",
              "        vertical-align: middle;\n",
              "    }\n",
              "\n",
              "    .dataframe tbody tr th {\n",
              "        vertical-align: top;\n",
              "    }\n",
              "\n",
              "    .dataframe thead th {\n",
              "        text-align: right;\n",
              "    }\n",
              "</style>\n",
              "<table border=\"1\" class=\"dataframe\">\n",
              "  <thead>\n",
              "    <tr style=\"text-align: right;\">\n",
              "      <th></th>\n",
              "      <th>snoring_rate</th>\n",
              "      <th>respiration_rate</th>\n",
              "      <th>body_temperature</th>\n",
              "      <th>limb_movement</th>\n",
              "      <th>blood_oxygen</th>\n",
              "      <th>eye_movement</th>\n",
              "      <th>sleeping_hours</th>\n",
              "      <th>heart_rate</th>\n",
              "      <th>stress_level</th>\n",
              "    </tr>\n",
              "  </thead>\n",
              "  <tbody>\n",
              "    <tr>\n",
              "      <th>0</th>\n",
              "      <td>93.80</td>\n",
              "      <td>25.68</td>\n",
              "      <td>91.84</td>\n",
              "      <td>16.60</td>\n",
              "      <td>89.84</td>\n",
              "      <td>99.60</td>\n",
              "      <td>1.84</td>\n",
              "      <td>74.20</td>\n",
              "      <td>3</td>\n",
              "    </tr>\n",
              "    <tr>\n",
              "      <th>1</th>\n",
              "      <td>91.64</td>\n",
              "      <td>25104.00</td>\n",
              "      <td>91552.00</td>\n",
              "      <td>15.88</td>\n",
              "      <td>89552.00</td>\n",
              "      <td>98.88</td>\n",
              "      <td>1552.00</td>\n",
              "      <td>72.76</td>\n",
              "      <td>3</td>\n",
              "    </tr>\n",
              "    <tr>\n",
              "      <th>2</th>\n",
              "      <td>60.00</td>\n",
              "      <td>20.00</td>\n",
              "      <td>96.00</td>\n",
              "      <td>10.00</td>\n",
              "      <td>95.00</td>\n",
              "      <td>85.00</td>\n",
              "      <td>7.00</td>\n",
              "      <td>60.00</td>\n",
              "      <td>1</td>\n",
              "    </tr>\n",
              "    <tr>\n",
              "      <th>3</th>\n",
              "      <td>85.76</td>\n",
              "      <td>23536.00</td>\n",
              "      <td>90768.00</td>\n",
              "      <td>13.92</td>\n",
              "      <td>88768.00</td>\n",
              "      <td>96.92</td>\n",
              "      <td>768.00</td>\n",
              "      <td>68.84</td>\n",
              "      <td>3</td>\n",
              "    </tr>\n",
              "    <tr>\n",
              "      <th>4</th>\n",
              "      <td>48.12</td>\n",
              "      <td>17248.00</td>\n",
              "      <td>97872.00</td>\n",
              "      <td>6496.00</td>\n",
              "      <td>96248.00</td>\n",
              "      <td>72.48</td>\n",
              "      <td>8248.00</td>\n",
              "      <td>53.12</td>\n",
              "      <td>0</td>\n",
              "    </tr>\n",
              "  </tbody>\n",
              "</table>\n",
              "</div>"
            ],
            "text/plain": [
              "   snoring_rate  respiration_rate  body_temperature  limb_movement  \\\n",
              "0         93.80             25.68             91.84          16.60   \n",
              "1         91.64          25104.00          91552.00          15.88   \n",
              "2         60.00             20.00             96.00          10.00   \n",
              "3         85.76          23536.00          90768.00          13.92   \n",
              "4         48.12          17248.00          97872.00        6496.00   \n",
              "\n",
              "   blood_oxygen  eye_movement  sleeping_hours  heart_rate  stress_level  \n",
              "0         89.84         99.60            1.84       74.20             3  \n",
              "1      89552.00         98.88         1552.00       72.76             3  \n",
              "2         95.00         85.00            7.00       60.00             1  \n",
              "3      88768.00         96.92          768.00       68.84             3  \n",
              "4      96248.00         72.48         8248.00       53.12             0  "
            ]
          },
          "execution_count": 41,
          "metadata": {},
          "output_type": "execute_result"
        }
      ],
      "source": [
        "data.rename(columns = {'sr':'snoring_rate', 'rr':'respiration_rate',\n",
        "                        't':'body_temperature', 'lm':'limb_movement', \n",
        "                        'bo':'blood_oxygen', 'rem':'eye_movement', \n",
        "                        'sr.1':'sleeping_hours','hr':'heart_rate', \n",
        "                        'sl':'stress_level'}, inplace = True)\n",
        "data.head()"
      ]
    },
    {
      "cell_type": "code",
      "execution_count": 42,
      "metadata": {
        "colab": {
          "base_uri": "https://localhost:8080/"
        },
        "id": "BgXvDPMyFbtw",
        "outputId": "c3287e08-a6d8-49b1-bf62-d63ef81777ce"
      },
      "outputs": [
        {
          "data": {
            "text/plain": [
              "Index(['snoring_rate', 'respiration_rate', 'body_temperature', 'limb_movement',\n",
              "       'blood_oxygen', 'eye_movement', 'sleeping_hours', 'heart_rate'],\n",
              "      dtype='object')"
            ]
          },
          "execution_count": 42,
          "metadata": {},
          "output_type": "execute_result"
        }
      ],
      "source": [
        "feature_cols = data.columns[0:8]\n",
        "feature_cols"
      ]
    },
    {
      "cell_type": "markdown",
      "metadata": {
        "id": "Ry9cN9YAOPLe"
      },
      "source": [
        "**Prepare the data for training**"
      ]
    },
    {
      "cell_type": "code",
      "execution_count": 43,
      "metadata": {
        "id": "H7O9hkX-j6WC"
      },
      "outputs": [],
      "source": [
        "X = data.drop(['stress_level'], axis='columns')\n",
        "y = data['stress_level']"
      ]
    },
    {
      "cell_type": "code",
      "execution_count": 44,
      "metadata": {
        "id": "VMF5jUv7lLs1"
      },
      "outputs": [],
      "source": [
        "#use uint32 data type because of hw design\n",
        "X = X.astype(np.uint32)\n",
        "y = y.astype(np.uint32)"
      ]
    },
    {
      "cell_type": "code",
      "execution_count": 46,
      "metadata": {
        "id": "CWavxuSAnOlf"
      },
      "outputs": [],
      "source": [
        "x_train, x_test, y_train, y_test = train_test_split(X, y, test_size=0.3, random_state=42, stratify=y)"
      ]
    },
    {
      "cell_type": "markdown",
      "metadata": {
        "id": "Ui-_FlySOXFR"
      },
      "source": [
        "**Model creation and training**"
      ]
    },
    {
      "cell_type": "code",
      "execution_count": 47,
      "metadata": {
        "colab": {
          "base_uri": "https://localhost:8080/"
        },
        "id": "awFnJvYQEP1y",
        "outputId": "edc7bfdf-bd49-41f9-be38-2ab57b584aec"
      },
      "outputs": [
        {
          "data": {
            "text/plain": [
              "DecisionTreeClassifier()"
            ]
          },
          "execution_count": 47,
          "metadata": {},
          "output_type": "execute_result"
        }
      ],
      "source": [
        "model_simple = tree.DecisionTreeClassifier()\n",
        "model_simple.fit(x_train, y_train)"
      ]
    },
    {
      "cell_type": "code",
      "execution_count": 48,
      "metadata": {
        "colab": {
          "base_uri": "https://localhost:8080/"
        },
        "id": "I8SvC_ptFE4e",
        "outputId": "ed512e4f-705f-45f0-bd2c-7195406f1c71"
      },
      "outputs": [
        {
          "name": "stdout",
          "output_type": "stream",
          "text": [
            "model score: 0.9788359788359788\n"
          ]
        }
      ],
      "source": [
        "model_score = model_simple.score(x_test, y_test)\n",
        "print('model score:', model_score)"
      ]
    },
    {
      "cell_type": "markdown",
      "metadata": {
        "id": "VmH6BUZ_Odzn"
      },
      "source": [
        "**Model score and prediction on test data**"
      ]
    },
    {
      "cell_type": "code",
      "execution_count": 49,
      "metadata": {
        "colab": {
          "base_uri": "https://localhost:8080/"
        },
        "id": "qQU0hZ6jFQEe",
        "outputId": "a97c31ed-33c8-4b40-85f1-4f43e7d8055a"
      },
      "outputs": [
        {
          "name": "stdout",
          "output_type": "stream",
          "text": [
            "samples 189\n",
            "match 185\n",
            "mismatch 4\n",
            "error 0.021164021164021163\n",
            "model score 97.88359788359789\n"
          ]
        }
      ],
      "source": [
        "predictions_test= model_simple.predict(x_test)\n",
        "print('samples', len(x_test))\n",
        "print('match', np.count_nonzero(predictions_test==y_test))\n",
        "print('mismatch', (len(x_test) - (np.count_nonzero(predictions_test==y_test))))\n",
        "print('error', ((len(x_test) - (np.count_nonzero(predictions_test==y_test))))/(len(x_test)))\n",
        "print('model score', model_simple.score(x_test, y_test)*100)"
      ]
    },
    {
      "cell_type": "code",
      "execution_count": 50,
      "metadata": {
        "id": "BX3s2RPoBl6l"
      },
      "outputs": [],
      "source": [
        "classes = ['low/normal', 'medium low' , 'medium', 'medium high', 'high']"
      ]
    },
    {
      "cell_type": "code",
      "execution_count": 51,
      "metadata": {
        "id": "rLCG8ugKvoZ-"
      },
      "outputs": [],
      "source": [
        "x_test = x_test.to_numpy(dtype=np.uint32)\n",
        "y_test = y_test.to_numpy(dtype=np.uint32)"
      ]
    },
    {
      "cell_type": "code",
      "execution_count": 52,
      "metadata": {
        "colab": {
          "base_uri": "https://localhost:8080/"
        },
        "id": "sJQ4VbFdwaaz",
        "outputId": "4af64231-27d0-45bc-ae2d-c1c67877c7c4"
      },
      "outputs": [
        {
          "data": {
            "text/plain": [
              "array([   91, 25008, 91504,    15, 89504,    98,  1504,    72],\n",
              "      dtype=uint32)"
            ]
          },
          "execution_count": 52,
          "metadata": {},
          "output_type": "execute_result"
        }
      ],
      "source": [
        "x_test[12]"
      ]
    },
    {
      "cell_type": "code",
      "execution_count": 53,
      "metadata": {},
      "outputs": [
        {
          "data": {
            "text/plain": [
              "3"
            ]
          },
          "execution_count": 53,
          "metadata": {},
          "output_type": "execute_result"
        }
      ],
      "source": [
        "y_test[12]"
      ]
    },
    {
      "cell_type": "code",
      "execution_count": 54,
      "metadata": {
        "colab": {
          "base_uri": "https://localhost:8080/"
        },
        "id": "U0gAqFgSC0n5",
        "outputId": "fad85322-8baa-481c-daf4-d716e89121e8"
      },
      "outputs": [
        {
          "name": "stdout",
          "output_type": "stream",
          "text": [
            "Predected stress level during sleep:  medium high\n",
            "Actual stress level during sleep:  medium high\n"
          ]
        },
        {
          "name": "stderr",
          "output_type": "stream",
          "text": [
            "/net/users/Linux_Home/roy/tf/lib/python3.8/site-packages/sklearn/base.py:450: UserWarning: X does not have valid feature names, but DecisionTreeClassifier was fitted with feature names\n",
            "  warnings.warn(\n"
          ]
        }
      ],
      "source": [
        "sample = 12\n",
        "predictions = model_simple.predict(x_test[sample].reshape(1, -1))\n",
        "#return position of max  \n",
        "index = predictions[0].astype(int)\n",
        "prediction_label=classes[index]\n",
        "print('Predected stress level during sleep: ',prediction_label) \n",
        "print('Actual stress level during sleep: ', classes[y_test[sample].astype(int)])"
      ]
    },
    {
      "cell_type": "markdown",
      "metadata": {
        "id": "hjKf79SEOrZ7"
      },
      "source": [
        "**Vizualization of tree**"
      ]
    },
    {
      "cell_type": "code",
      "execution_count": 55,
      "metadata": {
        "colab": {
          "base_uri": "https://localhost:8080/"
        },
        "id": "LwR4qRD7Fw4M",
        "outputId": "2be1164c-5f18-4b9a-8b9e-f827a1a07ce6"
      },
      "outputs": [
        {
          "name": "stdout",
          "output_type": "stream",
          "text": [
            "Max Depth: 3\n"
          ]
        }
      ],
      "source": [
        "print('Max Depth:', model_simple.tree_.max_depth)"
      ]
    },
    {
      "cell_type": "code",
      "execution_count": 56,
      "metadata": {
        "colab": {
          "base_uri": "https://localhost:8080/"
        },
        "id": "eYlb_l_hGc3O",
        "outputId": "a39307d6-9ac0-4076-b6ea-e7c74729f2a0"
      },
      "outputs": [
        {
          "name": "stdout",
          "output_type": "stream",
          "text": [
            "Number of decision nodes 4\n"
          ]
        }
      ],
      "source": [
        "from sklearn.tree import _tree\n",
        "ifs_count = len([x for x in model_simple.tree_.feature if x != _tree.TREE_UNDEFINED])\n",
        "print('Number of decision nodes', ifs_count)"
      ]
    },
    {
      "cell_type": "code",
      "execution_count": 57,
      "metadata": {
        "colab": {
          "base_uri": "https://localhost:8080/"
        },
        "id": "1c2ulZu1G9_F",
        "outputId": "8f9e6c6a-d43f-4e12-9288-b37d0af5e322"
      },
      "outputs": [
        {
          "data": {
            "text/plain": [
              "Index(['snoring_rate', 'respiration_rate', 'body_temperature', 'limb_movement',\n",
              "       'blood_oxygen', 'eye_movement', 'sleeping_hours', 'heart_rate'],\n",
              "      dtype='object')"
            ]
          },
          "execution_count": 57,
          "metadata": {},
          "output_type": "execute_result"
        }
      ],
      "source": [
        "feature_cols = data.columns[0:8]\n",
        "feature_cols"
      ]
    },
    {
      "cell_type": "code",
      "execution_count": 58,
      "metadata": {
        "colab": {
          "base_uri": "https://localhost:8080/",
          "height": 594
        },
        "id": "qpqLlsKNGvZT",
        "outputId": "a91a98b2-c3c5-4433-a781-15bd51359683"
      },
      "outputs": [
        {
          "data": {
            "image/png": "[encoded data removed]",
            "text/plain": [
              "<IPython.core.display.Image object>"
            ]
          },
          "execution_count": 58,
          "metadata": {},
          "output_type": "execute_result"
        }
      ],
      "source": [
        "\n",
        "from sklearn.tree import export_graphviz\n",
        "from six import StringIO  \n",
        "from IPython.display import Image  \n",
        "import pydotplus\n",
        "\n",
        "dot_data = StringIO()\n",
        "export_graphviz(model_simple, out_file=dot_data,  \n",
        "                filled=True, rounded=True,\n",
        "                special_characters=True,feature_names = feature_cols,class_names=['0','1', '2', '3', '4'])\n",
        "graph = pydotplus.graph_from_dot_data(dot_data.getvalue())  \n",
        "graph.write_png('tree_img.png')\n",
        "Image(graph.create_png())"
      ]
    },
    {
      "cell_type": "markdown",
      "metadata": {},
      "source": [
        "**Convert decision tree to if-else code**"
      ]
    },
    {
      "cell_type": "code",
      "execution_count": 61,
      "metadata": {
        "id": "ccDs0yfx7Kmu"
      },
      "outputs": [],
      "source": [
        "import numpy as np\n",
        "from sklearn.tree import _tree\n",
        "\n",
        "def tree_to_code(tree, feature_names):\n",
        "    tree_ = tree.tree_\n",
        "    feature_name = [feature_names[i] \n",
        "                    if i != _tree.TREE_UNDEFINED else \"undefined!\" \n",
        "                    for i in tree_.feature]\n",
        "    print(\"def tree({}):\".format(\", \".join(feature_names)))\n",
        "\n",
        "    def recurse(node, depth):\n",
        "        indent = \"    \" * depth\n",
        "        if tree_.feature[node] != _tree.TREE_UNDEFINED:\n",
        "            name = feature_name[node]\n",
        "            threshold = tree_.threshold[node]\n",
        "            print(\"{}if {} <= {}:\".format(indent, name, threshold))\n",
        "            recurse(tree_.children_left[node], depth + 1)\n",
        "            print(\"{}else:  # if {} > {}\".format(indent, name, threshold))\n",
        "            recurse(tree_.children_right[node], depth + 1)\n",
        "        else:\n",
        "            print(\"{}return {}\".format(indent, np.argmax(tree_.value[node])))\n",
        "\n",
        "    recurse(0, 1)"
      ]
    },
    {
      "cell_type": "code",
      "execution_count": 62,
      "metadata": {
        "colab": {
          "base_uri": "https://localhost:8080/"
        },
        "id": "Q7OJDj7C_7hN",
        "outputId": "d70d049a-fe67-4ad4-b6e8-07b9eecbe130"
      },
      "outputs": [
        {
          "name": "stdout",
          "output_type": "stream",
          "text": [
            "def tree(snoring_rate, respiration_rate, body_temperature, limb_movement, blood_oxygen, eye_movement, sleeping_hours, heart_rate):\n",
            "    if heart_rate <= 59.5:\n",
            "        if eye_movement <= 79.5:\n",
            "            return 0\n",
            "        else:  # if eye_movement > 79.5\n",
            "            return 1\n",
            "    else:  # if heart_rate > 59.5\n",
            "        if eye_movement <= 94.5:\n",
            "            return 2\n",
            "        else:  # if eye_movement > 94.5\n",
            "            if heart_rate <= 74.5:\n",
            "                return 3\n",
            "            else:  # if heart_rate > 74.5\n",
            "                return 4\n"
          ]
        }
      ],
      "source": [
        "tree_to_code(model_simple, feature_cols)"
      ]
    },
    {
      "cell_type": "markdown",
      "metadata": {},
      "source": [
        "**Check converted if-else with test data**"
      ]
    },
    {
      "cell_type": "code",
      "execution_count": 63,
      "metadata": {
        "id": "U4MompfKNwcJ"
      },
      "outputs": [],
      "source": [
        "def tree(snoring_rate, respiration_rate, body_temperature, limb_movement, blood_oxygen, eye_movement, sleeping_hours, heart_rate):\n",
        "    if eye_movement <= 84.5:\n",
        "        if eye_movement <= 79.5:\n",
        "            return 0\n",
        "        else:  # if eye_movement > 79.5\n",
        "            return 1\n",
        "    else:  # if eye_movement > 84.5\n",
        "        if snoring_rate <= 79.5:\n",
        "            return 2\n",
        "        else:  # if snoring_rate > 79.5\n",
        "            if heart_rate <= 74.5:\n",
        "                return 3\n",
        "            else:  # if heart_rate > 74.5\n",
        "                return 4\n"
      ]
    },
    {
      "cell_type": "code",
      "execution_count": 64,
      "metadata": {
        "colab": {
          "base_uri": "https://localhost:8080/"
        },
        "id": "W2jLCHUiN9L-",
        "outputId": "74af7d7e-00ad-4cf5-dbc1-455ec6d12c1d"
      },
      "outputs": [
        {
          "name": "stdout",
          "output_type": "stream",
          "text": [
            "Prediction: 2\n"
          ]
        }
      ],
      "source": [
        "Prediction = tree(67, 20768, 92768, 10768, 90768, 88, 3152, 61)\n",
        "print('Prediction:', Prediction)"
      ]
    },
    {
      "cell_type": "markdown",
      "metadata": {},
      "source": [
        "**Decision tree model to decision table**"
      ]
    },
    {
      "cell_type": "code",
      "execution_count": 65,
      "metadata": {},
      "outputs": [
        {
          "name": "stdout",
          "output_type": "stream",
          "text": [
            "The binary tree structure has 9 nodes and has the following tree structure printed into decision table:\n",
            "[Node number], [Input feature index], [Value to compare], [Next node if ture], [Next node if false], [is leaf], [Output]\n",
            "\n",
            "\n",
            "[[ 0.   7.  59.5  1.   4.   0.  -1. ]\n",
            " [ 1.   5.  79.5  2.   3.   0.  -1. ]\n",
            " [ 2.  -1.  -1.  -1.  -1.   1.   0. ]\n",
            " [ 3.  -1.  -1.  -1.  -1.   1.   1. ]\n",
            " [ 4.   5.  94.5  5.   6.   0.  -1. ]\n",
            " [ 5.  -1.  -1.  -1.  -1.   1.   2. ]\n",
            " [ 6.   7.  74.5  7.   8.   0.  -1. ]\n",
            " [ 7.  -1.  -1.  -1.  -1.   1.   3. ]\n",
            " [ 8.  -1.  -1.  -1.  -1.   1.   4. ]]\n"
          ]
        }
      ],
      "source": [
        "n_nodes = model_simple.tree_.node_count\n",
        "children_left = model_simple.tree_.children_left\n",
        "children_right = model_simple.tree_.children_right\n",
        "feature = model_simple.tree_.feature\n",
        "threshold = model_simple.tree_.threshold\n",
        "label = model_simple.tree_.value\n",
        "\n",
        "\n",
        "node_depth = np.zeros(shape=n_nodes, dtype=np.int64)\n",
        "is_leaves = np.zeros(shape=n_nodes, dtype=bool)\n",
        "stack = [(0, -1)]  \n",
        "while len(stack) > 0:\n",
        "    node_id, parent_depth = stack.pop()\n",
        "    node_depth[node_id] = parent_depth + 1\n",
        "\n",
        "   \n",
        "    if (children_left[node_id] != children_right[node_id]):\n",
        "        stack.append((children_left[node_id], parent_depth + 1))\n",
        "        stack.append((children_right[node_id], parent_depth + 1))\n",
        "    else:\n",
        "        is_leaves[node_id] = True\n",
        "empty_array = np.empty((0, 7))\n",
        "print(\"The binary tree structure has %s nodes and has \"\n",
        "      \"the following tree structure printed into decision table:\"\n",
        "      % n_nodes)\n",
        "print(\"[Node number], [Input feature index], [Value to compare], [Next node if ture], [Next node if false], [is leaf], [Output]\")\n",
        "for i in range(n_nodes):\n",
        "    if is_leaves[i]:\n",
        "        n = np.array(label[i])\n",
        "        outputs_index = np.argmax(n)\n",
        "        empty_array = np.append(empty_array, np.array([[i, -1, -1, -1, -1, 1, outputs_index]]), axis=0)\n",
        "    else:\n",
        "        empty_array = np.append(empty_array, np.array([[i, feature[i], threshold[i], children_left[i], children_right[i], 0, -1]]), axis=0)\n",
        "print(\"\\n\")\n",
        "print(empty_array)"
      ]
    },
    {
      "cell_type": "code",
      "execution_count": 66,
      "metadata": {},
      "outputs": [],
      "source": [
        "file = open(\"decision_table.txt\", \"w+\")\n",
        "content = str(empty_array)\n",
        "file.write(content)\n",
        "file.close()"
      ]
    },
    {
      "cell_type": "markdown",
      "metadata": {},
      "source": [
        "**Decision table to pandas dataframe for better understanding**"
      ]
    },
    {
      "cell_type": "markdown",
      "metadata": {},
      "source": [
        "How to use this table? \n",
        "- Node number: The root node is 0 and then as we go down the associate node number increase\n",
        "- Input feature index: We have 8 inputs as features. This index number is telling which feature is being used by the corresponding node\n",
        "- Value to compare: This value is compared with the feature value\n",
        "- Next node if true: Tells which node is next if the above comparison is true\n",
        "- Next node if false: Tells which node is next if the above comparison is false\n",
        "- is leaf: Tells you the current node is a leaf node or not\n",
        "- Output: Tells you the output of the node. You will notice that some output is -1. That's because only leaf nodes have the outcomes of a given input. Other nodes do not have any outcomes.\n",
        "- If any cell has -1 that means that cell does not have any use to make predictions. For example Node number 3 is a leaf node. So here we are not comparing any feature value with \"Value to compare\". So Input feature index is -1 here but the output has a value of 1 which is our desired outcome of the tree."
      ]
    },
    {
      "cell_type": "code",
      "execution_count": 67,
      "metadata": {},
      "outputs": [
        {
          "data": {
            "text/html": [
              "<div>\n",
              "<style scoped>\n",
              "    .dataframe tbody tr th:only-of-type {\n",
              "        vertical-align: middle;\n",
              "    }\n",
              "\n",
              "    .dataframe tbody tr th {\n",
              "        vertical-align: top;\n",
              "    }\n",
              "\n",
              "    .dataframe thead th {\n",
              "        text-align: right;\n",
              "    }\n",
              "</style>\n",
              "<table border=\"1\" class=\"dataframe\">\n",
              "  <thead>\n",
              "    <tr style=\"text-align: right;\">\n",
              "      <th></th>\n",
              "      <th>Node number</th>\n",
              "      <th>Input feature index</th>\n",
              "      <th>Value to compare</th>\n",
              "      <th>Next node if ture</th>\n",
              "      <th>Next node if false</th>\n",
              "      <th>is leaf</th>\n",
              "      <th>Output</th>\n",
              "    </tr>\n",
              "  </thead>\n",
              "  <tbody>\n",
              "    <tr>\n",
              "      <th>0</th>\n",
              "      <td>0.0</td>\n",
              "      <td>7.0</td>\n",
              "      <td>59.5</td>\n",
              "      <td>1.0</td>\n",
              "      <td>4.0</td>\n",
              "      <td>0.0</td>\n",
              "      <td>-1.0</td>\n",
              "    </tr>\n",
              "    <tr>\n",
              "      <th>1</th>\n",
              "      <td>1.0</td>\n",
              "      <td>5.0</td>\n",
              "      <td>79.5</td>\n",
              "      <td>2.0</td>\n",
              "      <td>3.0</td>\n",
              "      <td>0.0</td>\n",
              "      <td>-1.0</td>\n",
              "    </tr>\n",
              "    <tr>\n",
              "      <th>2</th>\n",
              "      <td>2.0</td>\n",
              "      <td>-1.0</td>\n",
              "      <td>-1.0</td>\n",
              "      <td>-1.0</td>\n",
              "      <td>-1.0</td>\n",
              "      <td>1.0</td>\n",
              "      <td>0.0</td>\n",
              "    </tr>\n",
              "    <tr>\n",
              "      <th>3</th>\n",
              "      <td>3.0</td>\n",
              "      <td>-1.0</td>\n",
              "      <td>-1.0</td>\n",
              "      <td>-1.0</td>\n",
              "      <td>-1.0</td>\n",
              "      <td>1.0</td>\n",
              "      <td>1.0</td>\n",
              "    </tr>\n",
              "    <tr>\n",
              "      <th>4</th>\n",
              "      <td>4.0</td>\n",
              "      <td>5.0</td>\n",
              "      <td>94.5</td>\n",
              "      <td>5.0</td>\n",
              "      <td>6.0</td>\n",
              "      <td>0.0</td>\n",
              "      <td>-1.0</td>\n",
              "    </tr>\n",
              "    <tr>\n",
              "      <th>5</th>\n",
              "      <td>5.0</td>\n",
              "      <td>-1.0</td>\n",
              "      <td>-1.0</td>\n",
              "      <td>-1.0</td>\n",
              "      <td>-1.0</td>\n",
              "      <td>1.0</td>\n",
              "      <td>2.0</td>\n",
              "    </tr>\n",
              "    <tr>\n",
              "      <th>6</th>\n",
              "      <td>6.0</td>\n",
              "      <td>7.0</td>\n",
              "      <td>74.5</td>\n",
              "      <td>7.0</td>\n",
              "      <td>8.0</td>\n",
              "      <td>0.0</td>\n",
              "      <td>-1.0</td>\n",
              "    </tr>\n",
              "    <tr>\n",
              "      <th>7</th>\n",
              "      <td>7.0</td>\n",
              "      <td>-1.0</td>\n",
              "      <td>-1.0</td>\n",
              "      <td>-1.0</td>\n",
              "      <td>-1.0</td>\n",
              "      <td>1.0</td>\n",
              "      <td>3.0</td>\n",
              "    </tr>\n",
              "    <tr>\n",
              "      <th>8</th>\n",
              "      <td>8.0</td>\n",
              "      <td>-1.0</td>\n",
              "      <td>-1.0</td>\n",
              "      <td>-1.0</td>\n",
              "      <td>-1.0</td>\n",
              "      <td>1.0</td>\n",
              "      <td>4.0</td>\n",
              "    </tr>\n",
              "  </tbody>\n",
              "</table>\n",
              "</div>"
            ],
            "text/plain": [
              "   Node number  Input feature index  Value to compare  Next node if ture  \\\n",
              "0          0.0                  7.0              59.5                1.0   \n",
              "1          1.0                  5.0              79.5                2.0   \n",
              "2          2.0                 -1.0              -1.0               -1.0   \n",
              "3          3.0                 -1.0              -1.0               -1.0   \n",
              "4          4.0                  5.0              94.5                5.0   \n",
              "5          5.0                 -1.0              -1.0               -1.0   \n",
              "6          6.0                  7.0              74.5                7.0   \n",
              "7          7.0                 -1.0              -1.0               -1.0   \n",
              "8          8.0                 -1.0              -1.0               -1.0   \n",
              "\n",
              "   Next node if false  is leaf  Output  \n",
              "0                 4.0      0.0    -1.0  \n",
              "1                 3.0      0.0    -1.0  \n",
              "2                -1.0      1.0     0.0  \n",
              "3                -1.0      1.0     1.0  \n",
              "4                 6.0      0.0    -1.0  \n",
              "5                -1.0      1.0     2.0  \n",
              "6                 8.0      0.0    -1.0  \n",
              "7                -1.0      1.0     3.0  \n",
              "8                -1.0      1.0     4.0  "
            ]
          },
          "execution_count": 67,
          "metadata": {},
          "output_type": "execute_result"
        }
      ],
      "source": [
        "\n",
        "df = pd.DataFrame(empty_array, \n",
        "             columns=['Node number', \n",
        "                      'Input feature index',\n",
        "                      'Value to compare',\n",
        "                      'Next node if ture',\n",
        "                      'Next node if false',\n",
        "                      'is leaf',\n",
        "                      'Output'])\n",
        "\n",
        "df"
      ]
    },
    {
      "cell_type": "markdown",
      "metadata": {},
      "source": [
        "**Using the below functions we can make predictions using the data from the above table**"
      ]
    },
    {
      "cell_type": "code",
      "execution_count": 71,
      "metadata": {},
      "outputs": [],
      "source": [
        "def leaf(node):\n",
        "    i = node\n",
        "    leaf = df.loc[df['Node number'] == i]['is leaf'].values[0]\n",
        "    if leaf == 0:\n",
        "        node_op(i, variable)\n",
        "    else:\n",
        "        global predicted_class\n",
        "        predicted_class = generate_output(i)\n",
        "       \n",
        "    return predicted_class\n",
        "\n",
        "def node_op(node, variable):\n",
        "    i = node\n",
        "    variable_index = df.loc[df['Node number'] == i]['Input feature index'].values[0]\n",
        "    compare_value = df.loc[df['Node number'] == i]['Value to compare'].values[0]\n",
        "    if variable_index == np.nan:\n",
        "        leaf(i)\n",
        "    else:\n",
        "        variable_index = int(variable_index)\n",
        "        variable = variable[variable_index]\n",
        "    \n",
        "\n",
        "    if compare_value == np.nan:\n",
        "        leaf(i)\n",
        "    else:\n",
        "        if variable < compare_value:\n",
        "            node = df.loc[df['Node number'] == i]['Next node if ture'].values[0]\n",
        "        else: \n",
        "            node = df.loc[df['Node number'] == i]['Next node if false'].values[0]\n",
        "\n",
        "    final_output_from_tree = leaf(node)\n",
        "\n",
        "    return final_output_from_tree\n",
        "\n",
        "def generate_output(node):\n",
        "    i = node\n",
        "    predicted_class = df.loc[df['Node number'] == i]['Output'].values[0]\n",
        "    return predicted_class"
      ]
    },
    {
      "cell_type": "code",
      "execution_count": 74,
      "metadata": {},
      "outputs": [
        {
          "name": "stdout",
          "output_type": "stream",
          "text": [
            "Prediction for the inputs 3.0\n"
          ]
        }
      ],
      "source": [
        "node = 0\n",
        "variable = [91, 25008, 91504,    15, 89504,    98,  1504,    72]  #input for test\n",
        "x = node_op(node, variable)\n",
        "print(\"Prediction for the inputs\", x)"
      ]
    }
  ],
  "metadata": {
    "colab": {
      "collapsed_sections": [],
      "name": "Human Stress Ditection During Sleep int op.ipynb",
      "provenance": []
    },
    "kernelspec": {
      "display_name": "Python 3",
      "name": "python3"
    },
    "language_info": {
      "codemirror_mode": {
        "name": "ipython",
        "version": 3
      },
      "file_extension": ".py",
      "mimetype": "text/x-python",
      "name": "python",
      "nbconvert_exporter": "python",
      "pygments_lexer": "ipython3",
      "version": "3.8.10"
    }
  },
  "nbformat": 4,
  "nbformat_minor": 0
}
