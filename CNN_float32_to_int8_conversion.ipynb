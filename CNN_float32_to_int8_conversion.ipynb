{
  "cells": [
    {
      "cell_type": "markdown",
      "source": [
        "**Conversion of float32 CNN model to int8 CNN model**"
      ],
      "metadata": {
        "id": "0lto5fQiuZ3m"
      }
    },
    {
      "cell_type": "code",
      "execution_count": null,
      "metadata": {
        "id": "Y2RUy5r_AU3H"
      },
      "outputs": [],
      "source": [
        "import tensorflow as tf\n",
        "from tensorflow import keras\n",
        "import matplotlib.pyplot as plt\n",
        "%matplotlib inline\n",
        "import numpy as np\n",
        "import pandas as pd\n",
        "import tensorflow_model_optimization as tfmot\n",
        "import h5py\n",
        "from keras.models import load_model\n",
        "import tensorflow as tf\n",
        "from tensorflow import keras\n",
        "from sklearn.metrics import accuracy_score\n",
        "import tempfile\n",
        "import zipfile\n",
        "import os\n",
        "from tensorflow.keras.callbacks import EarlyStopping\n",
        "from sklearn.model_selection import train_test_split"
      ]
    },
    {
      "cell_type": "code",
      "execution_count": null,
      "metadata": {
        "id": "hfVkTdCnAU3M"
      },
      "outputs": [],
      "source": [
        "data = pd.read_csv('training_and_test_data.csv')"
      ]
    },
    {
      "cell_type": "code",
      "source": [
        "data.shape"
      ],
      "metadata": {
        "colab": {
          "base_uri": "https://localhost:8080/"
        },
        "id": "ms-KH9N0EiQg",
        "outputId": "69ab3dd8-4067-42ee-bfa6-fd8f443f265c"
      },
      "execution_count": null,
      "outputs": [
        {
          "output_type": "execute_result",
          "data": {
            "text/plain": [
              "(3387307, 129)"
            ]
          },
          "metadata": {},
          "execution_count": 5
        }
      ]
    },
    {
      "cell_type": "code",
      "execution_count": null,
      "metadata": {
        "id": "FQURtwYNAU3N"
      },
      "outputs": [],
      "source": [
        "float_col = data.select_dtypes(include=['float64'])\n",
        "for col in float_col.columns.values:\n",
        "     data[col] = data[col].astype('float32')\n",
        "\n",
        "max_value = data.max().max()\n",
        "max_value\n",
        "\n",
        "data = np.array(data)\n",
        "m, n = data.shape\n",
        "np.random.shuffle(data)\n",
        "\n",
        "\n",
        "data_test = data[0:1000000].T\n",
        "Y_test = data_test[0].T\n",
        "X_test = data_test[1:n].T\n",
        "X_test = X_test / max_value\n",
        "\n",
        "data_train = data[1000000:m].T\n",
        "Y_train = data_train[0].T\n",
        "X_train = data_train[1:n].T\n",
        "X_train = X_train / max_value\n"
      ]
    },
    {
      "cell_type": "code",
      "execution_count": null,
      "metadata": {
        "colab": {
          "base_uri": "https://localhost:8080/"
        },
        "id": "7394nvxIAU3N",
        "outputId": "5819e4be-a40b-4d4c-8540-26bb77bebfdc"
      },
      "outputs": [
        {
          "output_type": "execute_result",
          "data": {
            "text/plain": [
              "(2387307, 128)"
            ]
          },
          "metadata": {},
          "execution_count": 7
        }
      ],
      "source": [
        "X_train.shape"
      ]
    },
    {
      "cell_type": "code",
      "source": [
        "X_test.shape"
      ],
      "metadata": {
        "colab": {
          "base_uri": "https://localhost:8080/"
        },
        "id": "wuokoDCZH4dn",
        "outputId": "ddf8b4b8-a572-48dc-cb6d-8954cafbc01c"
      },
      "execution_count": null,
      "outputs": [
        {
          "output_type": "execute_result",
          "data": {
            "text/plain": [
              "(1000000, 128)"
            ]
          },
          "metadata": {},
          "execution_count": 8
        }
      ]
    },
    {
      "cell_type": "code",
      "execution_count": null,
      "metadata": {
        "id": "SLPiqkGIAU3O"
      },
      "outputs": [],
      "source": [
        "X_train = X_train.reshape(2387307, 16,8)\n",
        "X_test = X_test.reshape(1000000, 16,8)"
      ]
    },
    {
      "cell_type": "code",
      "execution_count": null,
      "metadata": {
        "colab": {
          "base_uri": "https://localhost:8080/"
        },
        "id": "Uhaq7qYyAU3Q",
        "outputId": "327e1149-3f5e-4cb3-f2f7-8371c71e503c"
      },
      "outputs": [
        {
          "output_type": "stream",
          "name": "stdout",
          "text": [
            "Epoch 1/10\n",
            "74604/74604 [==============================] - 460s 6ms/step - loss: 0.1581 - accuracy: 0.9947 - val_loss: 0.0531 - val_accuracy: 0.9990\n",
            "Epoch 2/10\n",
            "74604/74604 [==============================] - 444s 6ms/step - loss: 0.0394 - accuracy: 0.9992 - val_loss: 0.0309 - val_accuracy: 0.9993\n"
          ]
        }
      ],
      "source": [
        "model = keras.Sequential([\n",
        "    keras.layers.InputLayer(input_shape=(16, 8)),\n",
        "    keras.layers.Reshape(target_shape=(16, 8, 1)),\n",
        "    keras.layers.Conv2D(filters=12, kernel_size=(3, 3), activation=tf.nn.relu,  use_bias=True , kernel_regularizer =tf.keras.regularizers.l2( l=0.01)),\n",
        "    keras.layers.MaxPooling2D(pool_size=(2, 2)),\n",
        "    keras.layers.Flatten(),\n",
        "    keras.layers.Dense(256, activation = 'softmax', use_bias=True)\n",
        "])\n",
        "\n",
        "\n",
        "model.compile(optimizer='adam',\n",
        "              loss=tf.keras.losses.SparseCategoricalCrossentropy(),\n",
        "              metrics=['accuracy'])\n",
        "\n",
        "reg_history = model.fit(X_train, Y_train, \n",
        "                            validation_data=(X_test, Y_test), \n",
        "                            epochs=10, \n",
        "                            callbacks=EarlyStopping(monitor='val_loss'))"
      ]
    },
    {
      "cell_type": "code",
      "execution_count": null,
      "metadata": {
        "colab": {
          "base_uri": "https://localhost:8080/",
          "height": 265
        },
        "id": "A4ap1PsrAU3R",
        "outputId": "9722f0bb-9909-4551-8579-a323d2cea7d1"
      },
      "outputs": [
        {
          "output_type": "display_data",
          "data": {
            "text/plain": [
              "<Figure size 432x288 with 1 Axes>"
            ],
            "image/png": "[encoded data removed]"
          },
          "metadata": {
            "needs_background": "light"
          }
        }
      ],
      "source": [
        "plt.plot(reg_history.history['loss'], label='train')\n",
        "plt.plot(reg_history.history['val_loss'], label='test')\n",
        "plt.legend()\n",
        "plt.show()"
      ]
    },
    {
      "cell_type": "code",
      "execution_count": null,
      "metadata": {
        "colab": {
          "base_uri": "https://localhost:8080/"
        },
        "id": "AzlDn-NLAU3T",
        "outputId": "d5214a1b-6e63-42e9-9be6-c17fa1dd6206"
      },
      "outputs": [
        {
          "output_type": "stream",
          "name": "stdout",
          "text": [
            "31250/31250 [==============================] - 95s 3ms/step - loss: 0.0309 - accuracy: 0.9993\n"
          ]
        },
        {
          "output_type": "execute_result",
          "data": {
            "text/plain": [
              "[0.030942535027861595, 0.9993069767951965]"
            ]
          },
          "metadata": {},
          "execution_count": 12
        }
      ],
      "source": [
        "model.evaluate(X_test, Y_test)"
      ]
    },
    {
      "cell_type": "code",
      "execution_count": null,
      "metadata": {
        "colab": {
          "base_uri": "https://localhost:8080/"
        },
        "id": "5sqCo0AaAU3U",
        "outputId": "d2be6175-99bf-4015-e5d7-c01ca663d8ba"
      },
      "outputs": [
        {
          "output_type": "stream",
          "name": "stdout",
          "text": [
            "INFO:tensorflow:Assets written to: ./conv_model_earlystop_l2_reg/assets\n"
          ]
        }
      ],
      "source": [
        "model.save('conv_model_earlystop_l2_reg.h5')\n",
        "model.save(\"./conv_model_earlystop_l2_reg/\")"
      ]
    },
    {
      "cell_type": "code",
      "execution_count": null,
      "metadata": {
        "colab": {
          "base_uri": "https://localhost:8080/"
        },
        "id": "9s7qmR0KAU3U",
        "outputId": "6f9ead88-430a-4a6d-d7bb-5f8804022350"
      },
      "outputs": [
        {
          "output_type": "stream",
          "name": "stdout",
          "text": [
            "Model: \"sequential\"\n",
            "_________________________________________________________________\n",
            " Layer (type)                Output Shape              Param #   \n",
            "=================================================================\n",
            " reshape (Reshape)           (None, 16, 8, 1)          0         \n",
            "                                                                 \n",
            " conv2d (Conv2D)             (None, 14, 6, 12)         120       \n",
            "                                                                 \n",
            " max_pooling2d (MaxPooling2D  (None, 7, 3, 12)         0         \n",
            " )                                                               \n",
            "                                                                 \n",
            " flatten (Flatten)           (None, 252)               0         \n",
            "                                                                 \n",
            " dense (Dense)               (None, 256)               64768     \n",
            "                                                                 \n",
            "=================================================================\n",
            "Total params: 64,888\n",
            "Trainable params: 64,888\n",
            "Non-trainable params: 0\n",
            "_________________________________________________________________\n"
          ]
        }
      ],
      "source": [
        "model.summary()"
      ]
    },
    {
      "cell_type": "markdown",
      "source": [
        "**Converting float32 model into int8 model. Here, input will be int8 and output is uint8**"
      ],
      "metadata": {
        "id": "KhXRLkwBj8Ms"
      }
    },
    {
      "cell_type": "code",
      "execution_count": null,
      "metadata": {
        "colab": {
          "base_uri": "https://localhost:8080/"
        },
        "id": "qSKnfm0-AU3V",
        "outputId": "270e4314-43d7-4210-b967-e5af3f8c357c"
      },
      "outputs": [
        {
          "output_type": "stream",
          "name": "stdout",
          "text": [
            "INFO:tensorflow:Assets written to: /tmp/tmp0tl4ib0w/assets\n"
          ]
        },
        {
          "output_type": "stream",
          "name": "stderr",
          "text": [
            "/usr/local/lib/python3.7/dist-packages/tensorflow/lite/python/convert.py:746: UserWarning: Statistics for quantized inputs were expected, but not specified; continuing anyway.\n",
            "  warnings.warn(\"Statistics for quantized inputs were expected, but not \"\n",
            "WARNING:absl:Buffer deduplication procedure will be skipped when flatbuffer library is not properly loaded\n"
          ]
        }
      ],
      "source": [
        "def representative_data_gen():\n",
        "  for input_value in tf.data.Dataset.from_tensor_slices(X_train).batch(1).take(100):\n",
        "    yield [input_value]\n",
        "\n",
        "converter = tf.lite.TFLiteConverter.from_keras_model(model)\n",
        "converter.optimizations = [tf.lite.Optimize.DEFAULT]\n",
        "converter.representative_dataset = representative_data_gen\n",
        "converter.target_spec.supported_ops = [tf.lite.OpsSet.TFLITE_BUILTINS_INT8]\n",
        "converter.inference_input_type = tf.int8\n",
        "converter.inference_output_type = tf.uint8\n",
        "\n",
        "tflite_model_quant = converter.convert()"
      ]
    },
    {
      "cell_type": "code",
      "execution_count": null,
      "metadata": {
        "colab": {
          "base_uri": "https://localhost:8080/"
        },
        "id": "lQ4t3TVzAU3V",
        "outputId": "efd65891-4a56-478d-9b22-3622251da8e8"
      },
      "outputs": [
        {
          "output_type": "execute_result",
          "data": {
            "text/plain": [
              "69696"
            ]
          },
          "metadata": {},
          "execution_count": 16
        }
      ],
      "source": [
        "import pathlib\n",
        "\n",
        "tflite_models_dir = pathlib.Path(\"/content/drive/MyDrive\")\n",
        "tflite_models_dir.mkdir(exist_ok=True, parents=True)\n",
        "\n",
        "\n",
        "tflite_model_quant_file = tflite_models_dir/\"conv_int8_model_earlystop_l2_reg.tflite\"\n",
        "tflite_model_quant_file.write_bytes(tflite_model_quant)"
      ]
    },
    {
      "cell_type": "markdown",
      "source": [
        "**Quantized model check with test data**"
      ],
      "metadata": {
        "id": "lxBs-yygkKOb"
      }
    },
    {
      "cell_type": "code",
      "execution_count": null,
      "metadata": {
        "id": "02bAjJ6SAU3V"
      },
      "outputs": [],
      "source": [
        "\n",
        "def run_tflite_model(tflite_file, test_indices):\n",
        "  global test_datas\n",
        "\n",
        "\n",
        "  interpreter = tf.lite.Interpreter(model_path=str(tflite_file))\n",
        "  interpreter.allocate_tensors()\n",
        "\n",
        "  input_details = interpreter.get_input_details()[0]\n",
        "  output_details = interpreter.get_output_details()[0]\n",
        "\n",
        "  predictions = np.zeros((len(test_indices),), dtype=int)\n",
        "  for i, test_index in enumerate(test_indices):\n",
        "    test_input = X_test[test_index]\n",
        "    test_label = Y_test[test_index]\n",
        "\n",
        "    if input_details['dtype'] == np.int8:\n",
        "      input_scale, input_zero_point = input_details[\"quantization\"]\n",
        "      test_input = test_input / input_scale + input_zero_point\n",
        "\n",
        "    test_input = np.expand_dims(test_input, axis=0).astype(input_details[\"dtype\"])\n",
        "    interpreter.set_tensor(input_details[\"index\"], test_input)\n",
        "    interpreter.invoke()\n",
        "    output = interpreter.get_tensor(output_details[\"index\"])[0]\n",
        "\n",
        "    predictions[i] = output.argmax()\n",
        "\n",
        "  return predictions"
      ]
    },
    {
      "cell_type": "code",
      "execution_count": null,
      "metadata": {
        "id": "RB4cwERUAU3W"
      },
      "outputs": [],
      "source": [
        "\n",
        "def evaluate_model(tflite_file, model_type):\n",
        "  global test_datas\n",
        "  global test_labels\n",
        "\n",
        "  test_indices = range(X_test.shape[0])\n",
        "  predictions = run_tflite_model(tflite_file, test_indices)\n",
        "\n",
        "  accuracy = (np.sum(Y_test== predictions) * 100) / len(Y_test)\n",
        "\n",
        "  print('%s model accuracy is %.4f%% (Number of test samples=%d)' % (\n",
        "      model_type, accuracy, len(X_test)))\n",
        "  print('match', np.count_nonzero(predictions==Y_test))\n",
        "  print('mismatch', (len(X_test) - (np.count_nonzero(predictions==Y_test))))\n"
      ]
    },
    {
      "cell_type": "markdown",
      "source": [
        "**Accuracy of float32 model and int8 model is same**"
      ],
      "metadata": {
        "id": "l4cOlrKAkWt_"
      }
    },
    {
      "cell_type": "code",
      "execution_count": null,
      "metadata": {
        "colab": {
          "base_uri": "https://localhost:8080/"
        },
        "id": "yDunHxsxAU3W",
        "outputId": "5d38b622-a8c8-4f77-b837-6d43a27be089"
      },
      "outputs": [
        {
          "output_type": "stream",
          "name": "stdout",
          "text": [
            "Quantized model accuracy is 99.9173% (Number of test samples=1000000)\n",
            "match 999173\n",
            "mismatch 827\n"
          ]
        }
      ],
      "source": [
        "evaluate_model(tflite_model_quant_file, model_type=\"Quantized\")"
      ]
    }
  ],
  "metadata": {
    "interpreter": {
      "hash": "4654ef66ef9c0448c5e3d753fd9c8d357fb8df292a0e8a5e9a1fa38b0e3441af"
    },
    "kernelspec": {
      "display_name": "Python 3.8.10 64-bit ('tf': venv)",
      "language": "python",
      "name": "python3"
    },
    "language_info": {
      "codemirror_mode": {
        "name": "ipython",
        "version": 3
      },
      "file_extension": ".py",
      "mimetype": "text/x-python",
      "name": "python",
      "nbconvert_exporter": "python",
      "pygments_lexer": "ipython3",
      "version": "3.8.10"
    },
    "orig_nbformat": 4,
    "colab": {
      "name": "Conv_model_new_HD_3_to_40_earlystop_l2_reg_good_accu.ipynb",
      "provenance": []
    }
  },
  "nbformat": 4,
  "nbformat_minor": 0
}